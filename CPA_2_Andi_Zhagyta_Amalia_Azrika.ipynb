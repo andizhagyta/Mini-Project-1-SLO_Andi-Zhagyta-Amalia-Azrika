{
  "nbformat": 4,
  "nbformat_minor": 0,
  "metadata": {
    "colab": {
      "provenance": [],
      "authorship_tag": "ABX9TyNeQeKIYapqc5dtu7BBIyvF",
      "include_colab_link": true
    },
    "kernelspec": {
      "name": "python3",
      "display_name": "Python 3"
    },
    "language_info": {
      "name": "python"
    }
  },
  "cells": [
    {
      "cell_type": "markdown",
      "metadata": {
        "id": "view-in-github",
        "colab_type": "text"
      },
      "source": [
        "<a href=\"https://colab.research.google.com/github/andizhagyta/Mini-Project-1-SLO_Andi-Zhagyta-Amalia-Azrika/blob/main/CPA_2_Andi_Zhagyta_Amalia_Azrika.ipynb\" target=\"_parent\"><img src=\"https://colab.research.google.com/assets/colab-badge.svg\" alt=\"Open In Colab\"/></a>"
      ]
    },
    {
      "cell_type": "code",
      "execution_count": null,
      "metadata": {
        "colab": {
          "base_uri": "https://localhost:8080/",
          "height": 73
        },
        "id": "srAKhS5L3X28",
        "outputId": "10605ebd-061f-496e-e5e7-40484ee55b79"
      },
      "outputs": [
        {
          "output_type": "display_data",
          "data": {
            "text/plain": [
              "<IPython.core.display.HTML object>"
            ],
            "text/html": [
              "\n",
              "     <input type=\"file\" id=\"files-3863c7ab-10ba-4c6a-92af-ffa36930e14c\" name=\"files[]\" multiple disabled\n",
              "        style=\"border:none\" />\n",
              "     <output id=\"result-3863c7ab-10ba-4c6a-92af-ffa36930e14c\">\n",
              "      Upload widget is only available when the cell has been executed in the\n",
              "      current browser session. Please rerun this cell to enable.\n",
              "      </output>\n",
              "      <script>// Copyright 2017 Google LLC\n",
              "//\n",
              "// Licensed under the Apache License, Version 2.0 (the \"License\");\n",
              "// you may not use this file except in compliance with the License.\n",
              "// You may obtain a copy of the License at\n",
              "//\n",
              "//      http://www.apache.org/licenses/LICENSE-2.0\n",
              "//\n",
              "// Unless required by applicable law or agreed to in writing, software\n",
              "// distributed under the License is distributed on an \"AS IS\" BASIS,\n",
              "// WITHOUT WARRANTIES OR CONDITIONS OF ANY KIND, either express or implied.\n",
              "// See the License for the specific language governing permissions and\n",
              "// limitations under the License.\n",
              "\n",
              "/**\n",
              " * @fileoverview Helpers for google.colab Python module.\n",
              " */\n",
              "(function(scope) {\n",
              "function span(text, styleAttributes = {}) {\n",
              "  const element = document.createElement('span');\n",
              "  element.textContent = text;\n",
              "  for (const key of Object.keys(styleAttributes)) {\n",
              "    element.style[key] = styleAttributes[key];\n",
              "  }\n",
              "  return element;\n",
              "}\n",
              "\n",
              "// Max number of bytes which will be uploaded at a time.\n",
              "const MAX_PAYLOAD_SIZE = 100 * 1024;\n",
              "\n",
              "function _uploadFiles(inputId, outputId) {\n",
              "  const steps = uploadFilesStep(inputId, outputId);\n",
              "  const outputElement = document.getElementById(outputId);\n",
              "  // Cache steps on the outputElement to make it available for the next call\n",
              "  // to uploadFilesContinue from Python.\n",
              "  outputElement.steps = steps;\n",
              "\n",
              "  return _uploadFilesContinue(outputId);\n",
              "}\n",
              "\n",
              "// This is roughly an async generator (not supported in the browser yet),\n",
              "// where there are multiple asynchronous steps and the Python side is going\n",
              "// to poll for completion of each step.\n",
              "// This uses a Promise to block the python side on completion of each step,\n",
              "// then passes the result of the previous step as the input to the next step.\n",
              "function _uploadFilesContinue(outputId) {\n",
              "  const outputElement = document.getElementById(outputId);\n",
              "  const steps = outputElement.steps;\n",
              "\n",
              "  const next = steps.next(outputElement.lastPromiseValue);\n",
              "  return Promise.resolve(next.value.promise).then((value) => {\n",
              "    // Cache the last promise value to make it available to the next\n",
              "    // step of the generator.\n",
              "    outputElement.lastPromiseValue = value;\n",
              "    return next.value.response;\n",
              "  });\n",
              "}\n",
              "\n",
              "/**\n",
              " * Generator function which is called between each async step of the upload\n",
              " * process.\n",
              " * @param {string} inputId Element ID of the input file picker element.\n",
              " * @param {string} outputId Element ID of the output display.\n",
              " * @return {!Iterable<!Object>} Iterable of next steps.\n",
              " */\n",
              "function* uploadFilesStep(inputId, outputId) {\n",
              "  const inputElement = document.getElementById(inputId);\n",
              "  inputElement.disabled = false;\n",
              "\n",
              "  const outputElement = document.getElementById(outputId);\n",
              "  outputElement.innerHTML = '';\n",
              "\n",
              "  const pickedPromise = new Promise((resolve) => {\n",
              "    inputElement.addEventListener('change', (e) => {\n",
              "      resolve(e.target.files);\n",
              "    });\n",
              "  });\n",
              "\n",
              "  const cancel = document.createElement('button');\n",
              "  inputElement.parentElement.appendChild(cancel);\n",
              "  cancel.textContent = 'Cancel upload';\n",
              "  const cancelPromise = new Promise((resolve) => {\n",
              "    cancel.onclick = () => {\n",
              "      resolve(null);\n",
              "    };\n",
              "  });\n",
              "\n",
              "  // Wait for the user to pick the files.\n",
              "  const files = yield {\n",
              "    promise: Promise.race([pickedPromise, cancelPromise]),\n",
              "    response: {\n",
              "      action: 'starting',\n",
              "    }\n",
              "  };\n",
              "\n",
              "  cancel.remove();\n",
              "\n",
              "  // Disable the input element since further picks are not allowed.\n",
              "  inputElement.disabled = true;\n",
              "\n",
              "  if (!files) {\n",
              "    return {\n",
              "      response: {\n",
              "        action: 'complete',\n",
              "      }\n",
              "    };\n",
              "  }\n",
              "\n",
              "  for (const file of files) {\n",
              "    const li = document.createElement('li');\n",
              "    li.append(span(file.name, {fontWeight: 'bold'}));\n",
              "    li.append(span(\n",
              "        `(${file.type || 'n/a'}) - ${file.size} bytes, ` +\n",
              "        `last modified: ${\n",
              "            file.lastModifiedDate ? file.lastModifiedDate.toLocaleDateString() :\n",
              "                                    'n/a'} - `));\n",
              "    const percent = span('0% done');\n",
              "    li.appendChild(percent);\n",
              "\n",
              "    outputElement.appendChild(li);\n",
              "\n",
              "    const fileDataPromise = new Promise((resolve) => {\n",
              "      const reader = new FileReader();\n",
              "      reader.onload = (e) => {\n",
              "        resolve(e.target.result);\n",
              "      };\n",
              "      reader.readAsArrayBuffer(file);\n",
              "    });\n",
              "    // Wait for the data to be ready.\n",
              "    let fileData = yield {\n",
              "      promise: fileDataPromise,\n",
              "      response: {\n",
              "        action: 'continue',\n",
              "      }\n",
              "    };\n",
              "\n",
              "    // Use a chunked sending to avoid message size limits. See b/62115660.\n",
              "    let position = 0;\n",
              "    do {\n",
              "      const length = Math.min(fileData.byteLength - position, MAX_PAYLOAD_SIZE);\n",
              "      const chunk = new Uint8Array(fileData, position, length);\n",
              "      position += length;\n",
              "\n",
              "      const base64 = btoa(String.fromCharCode.apply(null, chunk));\n",
              "      yield {\n",
              "        response: {\n",
              "          action: 'append',\n",
              "          file: file.name,\n",
              "          data: base64,\n",
              "        },\n",
              "      };\n",
              "\n",
              "      let percentDone = fileData.byteLength === 0 ?\n",
              "          100 :\n",
              "          Math.round((position / fileData.byteLength) * 100);\n",
              "      percent.textContent = `${percentDone}% done`;\n",
              "\n",
              "    } while (position < fileData.byteLength);\n",
              "  }\n",
              "\n",
              "  // All done.\n",
              "  yield {\n",
              "    response: {\n",
              "      action: 'complete',\n",
              "    }\n",
              "  };\n",
              "}\n",
              "\n",
              "scope.google = scope.google || {};\n",
              "scope.google.colab = scope.google.colab || {};\n",
              "scope.google.colab._files = {\n",
              "  _uploadFiles,\n",
              "  _uploadFilesContinue,\n",
              "};\n",
              "})(self);\n",
              "</script> "
            ]
          },
          "metadata": {}
        },
        {
          "output_type": "stream",
          "name": "stdout",
          "text": [
            "Saving CPA2.xlsx to CPA2.xlsx\n"
          ]
        }
      ],
      "source": [
        "from google.colab import files\n",
        "uploaded = files.upload()"
      ]
    },
    {
      "cell_type": "code",
      "source": [
        "import pandas as pd\n",
        "\n",
        "nama_file = 'CPA2.xlsx'\n",
        "df = pd.read_excel(nama_file, header=None)\n",
        "print(df.head())"
      ],
      "metadata": {
        "colab": {
          "base_uri": "https://localhost:8080/"
        },
        "id": "AVAzMZXO3-_p",
        "outputId": "a49cb7dc-bd80-4c5d-a8f0-10c2116a8476"
      },
      "execution_count": null,
      "outputs": [
        {
          "output_type": "stream",
          "name": "stdout",
          "text": [
            "          0         1         2         3         4      5\n",
            "0    powLv1    powLv2    powLv3    powLv4    powLv5  kelas\n",
            "1  0.448457   0.22086  0.143938  0.104903  0.081841      B\n",
            "2  0.448288  0.221315  0.144335  0.104964  0.081099      B\n",
            "3  0.448916  0.221049  0.143741  0.105198  0.081096      B\n",
            "4    0.4496  0.221141  0.144107   0.10493  0.080222      B\n"
          ]
        }
      ]
    },
    {
      "cell_type": "markdown",
      "source": [
        "**Skenario 10-Fold Cross Validation**"
      ],
      "metadata": {
        "id": "2t0NZEflQVWj"
      }
    },
    {
      "cell_type": "code",
      "source": [
        "from sklearn.model_selection import cross_val_score, KFold\n",
        "from sklearn.svm import SVC\n",
        "import numpy as np\n",
        "\n",
        "nama_file = 'CPA2.xlsx'\n",
        "data = pd.read_excel(nama_file)\n",
        "\n",
        "# Misalkan kolom terakhir adalah kolom target (y) dan kolom lainnya adalah fitur (X)\n",
        "X = data.iloc[:, :-1]  # Ambil semua kolom kecuali kolom terakhir\n",
        "y = data.iloc[:, -1]   # Ambil kolom terakhir sebagai target\n",
        "\n",
        "model = SVC(kernel='linear')\n",
        "\n",
        "k_fold = KFold(n_splits=10, shuffle=True, random_state=42)\n",
        "\n",
        "scores = cross_val_score(model, X, y, cv=k_fold)\n",
        "\n",
        "print(\"Accuracy of each fold:\", scores)\n",
        "print(\"Average accuracy:\", np.mean(scores))\n"
      ],
      "metadata": {
        "colab": {
          "base_uri": "https://localhost:8080/"
        },
        "id": "fqP9w4CT4Axr",
        "outputId": "90eb1f7e-c498-48c0-c068-d09b386b92ec"
      },
      "execution_count": null,
      "outputs": [
        {
          "output_type": "stream",
          "name": "stdout",
          "text": [
            "Accuracy of each fold: [0.65 0.45 0.65 0.45 0.45 0.45 0.65 0.4  0.45 0.45]\n",
            "Average accuracy: 0.5050000000000001\n"
          ]
        }
      ]
    },
    {
      "cell_type": "markdown",
      "source": [
        "**Skenario 10-Fold Cross Validation dengan Classifier SVM**"
      ],
      "metadata": {
        "id": "BYhHixD0QmPu"
      }
    },
    {
      "cell_type": "code",
      "source": [
        "from sklearn.model_selection import cross_val_predict, KFold\n",
        "from sklearn.metrics import confusion_matrix, classification_report\n",
        "from sklearn.svm import SVC\n",
        "import numpy as np\n",
        "import pandas as pd\n",
        "\n",
        "nama_file = 'CPA2.xlsx'\n",
        "data = pd.read_excel(nama_file)\n",
        "\n",
        "X = data.iloc[:, :-1]\n",
        "y = data.iloc[:, -1]\n",
        "\n",
        "# Menggunakan Support Vector Machine (SVM) dengan kernel linear\n",
        "model = SVC(kernel='linear')\n",
        "\n",
        "k_fold = KFold(n_splits=10, shuffle=True, random_state=42)\n",
        "\n",
        "# Prediksi dengan cross-validation\n",
        "y_pred = cross_val_predict(model, X, y, cv=k_fold)\n",
        "\n",
        "# Confusion matrix\n",
        "conf_matrix = confusion_matrix(y, y_pred)\n",
        "\n",
        "# Menghitung parameter performansi\n",
        "TP = conf_matrix[1, 1]  # True Positives\n",
        "TN = conf_matrix[0, 0]  # True Negatives\n",
        "FP = conf_matrix[0, 1]  # False Positives\n",
        "FN = conf_matrix[1, 0]  # False Negatives\n",
        "\n",
        "sensitivity = TP / (TP + FN)\n",
        "specificity = TN / (TN + FP)\n",
        "accuracy = (TP + TN) / (TP + TN + FP + FN)\n",
        "precision = TP / (TP + FP)\n",
        "recall = sensitivity\n",
        "f1_score = 2 * (precision * recall) / (precision + recall)\n",
        "\n",
        "print(\"------ 10-Fold CV using SVM Classifier ------\")\n",
        "print(\"Sensitivity:\", sensitivity)\n",
        "print(\"Specificity:\", specificity)\n",
        "print(\"Accuracy:\", accuracy)\n",
        "print(\"F1-Score:\", f1_score)"
      ],
      "metadata": {
        "colab": {
          "base_uri": "https://localhost:8080/"
        },
        "id": "87ZC7lMU4El_",
        "outputId": "92ff68e5-6858-4ed6-8018-85bab5c0e82f"
      },
      "execution_count": null,
      "outputs": [
        {
          "output_type": "stream",
          "name": "stdout",
          "text": [
            "------ 10-Fold CV using SVM Classifier ------\n",
            "Sensitivity: 0.53\n",
            "Specificity: 0.48\n",
            "Accuracy: 0.505\n",
            "F1-Score: 0.5170731707317073\n"
          ]
        }
      ]
    },
    {
      "cell_type": "markdown",
      "source": [
        "**Skenario 10-Fold Cross Validation dengan Classifier K-NN**"
      ],
      "metadata": {
        "id": "sBDHMkc3QxVk"
      }
    },
    {
      "cell_type": "code",
      "source": [
        "from sklearn.model_selection import cross_val_predict, KFold\n",
        "from sklearn.metrics import confusion_matrix, classification_report\n",
        "from sklearn.neighbors import KNeighborsClassifier\n",
        "import numpy as np\n",
        "import pandas as pd\n",
        "\n",
        "nama_file = 'CPA2.xlsx'\n",
        "data = pd.read_excel(nama_file)\n",
        "\n",
        "X = data.iloc[:, :-1]\n",
        "y = data.iloc[:, -1]\n",
        "\n",
        "# Menggunakan K-Nearest Neighbors (K-NN) dengan jumlah tetangga (n_neighbors) 5\n",
        "model = KNeighborsClassifier(n_neighbors=5)\n",
        "\n",
        "k_fold = KFold(n_splits=10, shuffle=True, random_state=42)\n",
        "\n",
        "# Prediksi dengan cross-validation\n",
        "y_pred = cross_val_predict(model, X, y, cv=k_fold)\n",
        "\n",
        "# Confusion matrix\n",
        "conf_matrix = confusion_matrix(y, y_pred)\n",
        "\n",
        "# Menghitung parameter performansi\n",
        "TP = conf_matrix[1, 1]  # True Positives\n",
        "TN = conf_matrix[0, 0]  # True Negatives\n",
        "FP = conf_matrix[0, 1]  # False Positives\n",
        "FN = conf_matrix[1, 0]  # False Negatives\n",
        "\n",
        "sensitivity = TP / (TP + FN)\n",
        "specificity = TN / (TN + FP)\n",
        "accuracy = (TP + TN) / (TP + TN + FP + FN)\n",
        "precision = TP / (TP + FP)\n",
        "recall = sensitivity\n",
        "f1_score = 2 * (precision * recall) / (precision + recall)\n",
        "\n",
        "print(\"------ 10-Fold CV using K-NN Classifier ------\")\n",
        "print(\"Sensitivity:\", sensitivity)\n",
        "print(\"Specificity:\", specificity)\n",
        "print(\"Accuracy:\", accuracy)\n",
        "print(\"F1-Score:\", f1_score)"
      ],
      "metadata": {
        "colab": {
          "base_uri": "https://localhost:8080/"
        },
        "id": "TQRf9kedAWAw",
        "outputId": "258f1998-20fe-417d-ba81-9b45a6e01d2e"
      },
      "execution_count": null,
      "outputs": [
        {
          "output_type": "stream",
          "name": "stdout",
          "text": [
            "------ 10-Fold CV using K-NN Classifier ------\n",
            "Sensitivity: 0.69\n",
            "Specificity: 0.78\n",
            "Accuracy: 0.735\n",
            "F1-Score: 0.7225130890052356\n"
          ]
        }
      ]
    },
    {
      "cell_type": "markdown",
      "source": [
        "**Skenario 75% Training dan 25% Testing dengan Classifier SVM**"
      ],
      "metadata": {
        "id": "lck-WswGQ5yd"
      }
    },
    {
      "cell_type": "code",
      "source": [
        "from sklearn.model_selection import train_test_split\n",
        "from sklearn.svm import SVC\n",
        "from sklearn.metrics import confusion_matrix\n",
        "import pandas as pd\n",
        "\n",
        "nama_file = 'CPA2.xlsx'\n",
        "data = pd.read_excel(nama_file)\n",
        "\n",
        "X = data.iloc[:, :-1]\n",
        "y = data.iloc[:, -1]\n",
        "\n",
        "# Bagi data menjadi 75% Training Data dan 25% Testing Data\n",
        "X_train, X_test, y_train, y_test = train_test_split(X, y, test_size=0.25, random_state=42)\n",
        "\n",
        "# Inisialisasi model SVM\n",
        "svm_model = SVC(kernel='linear')\n",
        "\n",
        "# Latih model dengan training data\n",
        "svm_model.fit(X_train, y_train)\n",
        "\n",
        "# Prediksi menggunakan data uji\n",
        "y_pred_train = svm_model.predict(X_train)\n",
        "y_pred_test = svm_model.predict(X_test)\n",
        "\n",
        "# Evaluasi metrik untuk SVM pada data pelatihan\n",
        "conf_matrix_train = confusion_matrix(y_train, y_pred_train)\n",
        "TN_train, FP_train, FN_train, TP_train = conf_matrix_train.ravel()\n",
        "sensitivity_train = TP_train / (TP_train + FN_train)\n",
        "specificity_train = TN_train / (TN_train + FP_train)\n",
        "accuracy_train = (TP_train + TN_train) / (TP_train + TN_train + FP_train + FN_train)\n",
        "precision_train = TP_train / (TP_train + FP_train)\n",
        "recall_train = sensitivity_train\n",
        "f1_score_train = 2 * (precision_train * recall_train) / (precision_train + recall_train)\n",
        "\n",
        "# Evaluasi metrik untuk SVM pada data pengujian\n",
        "conf_matrix_test = confusion_matrix(y_test, y_pred_test)\n",
        "TN_test, FP_test, FN_test, TP_test = conf_matrix_test.ravel()\n",
        "sensitivity_test = TP_test / (TP_test + FN_test)\n",
        "specificity_test = TN_test / (TN_test + FP_test)\n",
        "accuracy_test = (TP_test + TN_test) / (TP_test + TN_test + FP_test + FN_test)\n",
        "precision_test = TP_test / (TP_test + FP_test)\n",
        "recall_test = sensitivity_test\n",
        "f1_score_test = 2 * (precision_test * recall_test) / (precision_test + recall_test)\n",
        "\n",
        "print(\"------ 75% Training & 25% Testing using SVM Classifier ------\")\n",
        "print(\"[Training Set]\")\n",
        "print(\"Sensitivity:\", sensitivity_train)\n",
        "print(\"Specificity:\", specificity_train)\n",
        "print(\"Accuracy:\", accuracy_train)\n",
        "print(\"F1-Score:\", f1_score_train)\n",
        "\n",
        "print(\"\\n[Testing Set]\")\n",
        "print(\"Sensitivity:\", sensitivity_test)\n",
        "print(\"Specificity:\", specificity_test)\n",
        "print(\"Accuracy:\", accuracy_test)\n",
        "print(\"F1-Score:\", f1_score_test)"
      ],
      "metadata": {
        "colab": {
          "base_uri": "https://localhost:8080/"
        },
        "id": "3hiGNEThAWhi",
        "outputId": "e7b7d021-70a4-4c2d-b406-d4695a3fd284"
      },
      "execution_count": null,
      "outputs": [
        {
          "output_type": "stream",
          "name": "stdout",
          "text": [
            "------ 75% Training & 25% Testing using SVM Classifier ------\n",
            "[Training Set]\n",
            "Sensitivity: 1.0\n",
            "Specificity: 0.0\n",
            "Accuracy: 0.5133333333333333\n",
            "F1-Score: 0.6784140969162996\n",
            "\n",
            "[Testing Set]\n",
            "Sensitivity: 1.0\n",
            "Specificity: 0.0\n",
            "Accuracy: 0.46\n",
            "F1-Score: 0.6301369863013699\n"
          ]
        }
      ]
    },
    {
      "cell_type": "markdown",
      "source": [
        "**Skenario 75% Training dan 25% Testing dengan Classifier K-NN**"
      ],
      "metadata": {
        "id": "a9DssFk_Q-6e"
      }
    },
    {
      "cell_type": "code",
      "source": [
        "from sklearn.model_selection import train_test_split\n",
        "from sklearn.neighbors import KNeighborsClassifier\n",
        "from sklearn.metrics import confusion_matrix\n",
        "import pandas as pd\n",
        "\n",
        "nama_file = 'CPA2.xlsx'\n",
        "data = pd.read_excel(nama_file)\n",
        "\n",
        "X = data.iloc[:, :-1]\n",
        "y = data.iloc[:, -1]\n",
        "\n",
        "# Bagi data menjadi 75% Training Data dan 25% Testing Data\n",
        "X_train, X_test, y_train, y_test = train_test_split(X, y, test_size=0.25, random_state=42)\n",
        "\n",
        "# Inisialisasi model K-NN dengan jumlah tetangga (n_neighbors) yang diinginkan\n",
        "knn_model = KNeighborsClassifier(n_neighbors=5)\n",
        "\n",
        "# Latih model dengan training data\n",
        "knn_model.fit(X_train, y_train)\n",
        "\n",
        "# Prediksi menggunakan data uji\n",
        "y_pred_train = knn_model.predict(X_train)\n",
        "y_pred_test = knn_model.predict(X_test)\n",
        "\n",
        "# Evaluasi metrik untuk K-NN pada data pelatihan\n",
        "conf_matrix_train = confusion_matrix(y_train, y_pred_train)\n",
        "TN_train, FP_train, FN_train, TP_train = conf_matrix_train.ravel()\n",
        "sensitivity_train = TP_train / (TP_train + FN_train)\n",
        "specificity_train = TN_train / (TN_train + FP_train)\n",
        "accuracy_train = (TP_train + TN_train) / (TP_train + TN_train + FP_train + FN_train)\n",
        "precision_train = TP_train / (TP_train + FP_train)\n",
        "recall_train = sensitivity_train\n",
        "f1_score_train = 2 * (precision_train * recall_train) / (precision_train + recall_train)\n",
        "\n",
        "# Evaluasi metrik untuk K-NN pada data pengujian\n",
        "conf_matrix_test = confusion_matrix(y_test, y_pred_test)\n",
        "TN_test, FP_test, FN_test, TP_test = conf_matrix_test.ravel()\n",
        "sensitivity_test = TP_test / (TP_test + FN_test)\n",
        "specificity_test = TN_test / (TN_test + FP_test)\n",
        "accuracy_test = (TP_test + TN_test) / (TP_test + TN_test + FP_test + FN_test)\n",
        "precision_test = TP_test / (TP_test + FP_test)\n",
        "recall_test = sensitivity_test\n",
        "f1_score_test = 2 * (precision_test * recall_test) / (precision_test + recall_test)\n",
        "\n",
        "# Menampilkan hasil evaluasi\n",
        "print(\"------ 75% Training & 25% Testing using K-NN Classifier ------\")\n",
        "print(\"[Training Set]\")\n",
        "print(\"Sensitivity:\", sensitivity_train)\n",
        "print(\"Specificity:\", specificity_train)\n",
        "print(\"Accuracy:\", accuracy_train)\n",
        "print(\"F1-Score:\", f1_score_train)\n",
        "\n",
        "print(\"\\n[Testing Set]\")\n",
        "print(\"Sensitivity:\", sensitivity_test)\n",
        "print(\"Specificity:\", specificity_test)\n",
        "print(\"Accuracy:\", accuracy_test)\n",
        "print(\"F1-Score:\", f1_score_test)\n"
      ],
      "metadata": {
        "colab": {
          "base_uri": "https://localhost:8080/"
        },
        "id": "kMO9qhp9AZ8Q",
        "outputId": "51843b04-d626-4df4-a2b8-a2919106f2d8"
      },
      "execution_count": null,
      "outputs": [
        {
          "output_type": "stream",
          "name": "stdout",
          "text": [
            "------ 75% Training & 25% Testing using K-NN Classifier ------\n",
            "[Training Set]\n",
            "Sensitivity: 0.7272727272727273\n",
            "Specificity: 0.8493150684931506\n",
            "Accuracy: 0.7866666666666666\n",
            "F1-Score: 0.7777777777777778\n",
            "\n",
            "[Testing Set]\n",
            "Sensitivity: 0.8260869565217391\n",
            "Specificity: 0.8148148148148148\n",
            "Accuracy: 0.82\n",
            "F1-Score: 0.8085106382978724\n"
          ]
        }
      ]
    },
    {
      "cell_type": "markdown",
      "source": [
        "**Skenario 50% Training, 25% Validation, dan 25% Testing dengan Classifier SVM**"
      ],
      "metadata": {
        "id": "_WL1J-3WRH6h"
      }
    },
    {
      "cell_type": "code",
      "source": [
        "from sklearn.model_selection import train_test_split\n",
        "from sklearn.svm import SVC\n",
        "from sklearn.metrics import confusion_matrix, classification_report\n",
        "import pandas as pd\n",
        "\n",
        "nama_file = 'CPA2.xlsx'\n",
        "data = pd.read_excel(nama_file)\n",
        "\n",
        "X = data.iloc[:, :-1]\n",
        "y = data.iloc[:, -1]\n",
        "\n",
        "# Memisahkan data menjadi data pelatihan (50%) dan sisa data (50%)\n",
        "X_train, X_remaining, y_train, y_remaining = train_test_split(X, y, test_size=0.5, random_state=42)\n",
        "\n",
        "# Memisahkan sisa data menjadi data validasi (25%) dan data pengujian (25%)\n",
        "X_validation, X_test, y_validation, y_test = train_test_split(X_remaining, y_remaining, test_size=0.5, random_state=42)\n",
        "\n",
        "# Inisialisasi model SVM\n",
        "model = SVC(kernel='linear')\n",
        "\n",
        "model.fit(X_train, y_train)\n",
        "\n",
        "#Prediksi data\n",
        "y_pred_train = model.predict(X_train)\n",
        "y_pred_validation = model.predict(X_validation)\n",
        "y_pred_test = model.predict(X_test)\n",
        "\n",
        "# Evaluasi pada data pelatihan\n",
        "conf_matrix_train = confusion_matrix(y_train, y_pred_train)\n",
        "TP_train = conf_matrix_train[1, 1]\n",
        "TN_train = conf_matrix_train[0, 0]\n",
        "FP_train = conf_matrix_train[0, 1]\n",
        "FN_train = conf_matrix_train[1, 0]\n",
        "\n",
        "sensitivity_train = TP_train / (TP_train + FN_train)\n",
        "specificity_train = TN_train / (TN_train + FP_train)\n",
        "accuracy_train = (TP_train + TN_train) / (TP_train + TN_train + FP_train + FN_train)\n",
        "precision_train = TP_train / (TP_train + FP_train)\n",
        "recall_train = sensitivity_train\n",
        "f1_score_train = 2 * (precision_train * recall_train) / (precision_train + recall_train)\n",
        "\n",
        "# Evaluasi pada data validasi\n",
        "conf_matrix_validation = confusion_matrix(y_validation, y_pred_validation)\n",
        "TP_validation = conf_matrix_validation[1, 1]\n",
        "TN_validation = conf_matrix_validation[0, 0]\n",
        "FP_validation = conf_matrix_validation[0, 1]\n",
        "FN_validation = conf_matrix_validation[1, 0]\n",
        "\n",
        "sensitivity_validation = TP_validation / (TP_validation + FN_validation)\n",
        "specificity_validation = TN_validation / (TN_validation + FP_validation)\n",
        "accuracy_validation = (TP_validation + TN_validation) / (TP_validation + TN_validation + FP_validation + FN_validation)\n",
        "precision_validation = TP_validation / (TP_validation + FP_validation)\n",
        "recall_validation = sensitivity_validation\n",
        "f1_score_validation = 2 * (precision_validation * recall_validation) / (precision_validation + recall_validation)\n",
        "\n",
        "# Evaluasi pada data pengujian\n",
        "conf_matrix_test = confusion_matrix(y_test, y_pred_test)\n",
        "TP_test = conf_matrix_test[1, 1]\n",
        "TN_test = conf_matrix_test[0, 0]\n",
        "FP_test = conf_matrix_test[0, 1]\n",
        "FN_test = conf_matrix_test[1, 0]\n",
        "\n",
        "sensitivity_test = TP_test / (TP_test + FN_test)\n",
        "specificity_test = TN_test / (TN_test + FP_test)\n",
        "accuracy_test = (TP_test + TN_test) / (TP_test + TN_test + FP_test + FN_test)\n",
        "precision_test = TP_test / (TP_test + FP_test)\n",
        "recall_test = sensitivity_test\n",
        "f1_score_test = 2 * (precision_test * recall_test) / (precision_test + recall_test)\n",
        "\n",
        "# Menampilkan hasil evaluasi\n",
        "print(\"------ 50% Training, 25% Validation, & 25% Testing using SVM Classifier ------\")\n",
        "print(\"[Training Set]\")\n",
        "print(\"Sensitivity:\", sensitivity_train)\n",
        "print(\"Specificity:\", specificity_train)\n",
        "print(\"Accuracy:\", accuracy_train)\n",
        "print(\"F1-Score:\", f1_score_train)\n",
        "\n",
        "print(\"\\n[Validation Set]\")\n",
        "print(\"Sensitivity:\", sensitivity_validation)\n",
        "print(\"Specificity:\", specificity_validation)\n",
        "print(\"Accuracy:\", accuracy_validation)\n",
        "print(\"F1-Score:\", f1_score_validation)\n",
        "\n",
        "print(\"\\n[Testing Set]\")\n",
        "print(\"Sensitivity:\", sensitivity_test)\n",
        "print(\"Specificity:\", specificity_test)\n",
        "print(\"Accuracy:\", accuracy_test)\n",
        "print(\"F1-Score:\", f1_score_test)\n"
      ],
      "metadata": {
        "id": "t-SNekY_Adzi",
        "colab": {
          "base_uri": "https://localhost:8080/"
        },
        "outputId": "c23fd667-e0ff-4897-e328-78d0b1d7d2cc"
      },
      "execution_count": null,
      "outputs": [
        {
          "output_type": "stream",
          "name": "stdout",
          "text": [
            "------ 50% Training, 25% Validation, & 25% Testing using SVM Classifier ------\n",
            "[Training Set]\n",
            "Sensitivity: 1.0\n",
            "Specificity: 0.0\n",
            "Accuracy: 0.51\n",
            "F1-Score: 0.6754966887417219\n",
            "\n",
            "[Validation Set]\n",
            "Sensitivity: 1.0\n",
            "Specificity: 0.0\n",
            "Accuracy: 0.56\n",
            "F1-Score: 0.717948717948718\n",
            "\n",
            "[Testing Set]\n",
            "Sensitivity: 1.0\n",
            "Specificity: 0.0\n",
            "Accuracy: 0.42\n",
            "F1-Score: 0.5915492957746479\n"
          ]
        }
      ]
    },
    {
      "cell_type": "markdown",
      "source": [
        "**Skenario 50% Training, 25% Validation, dan 25% Testing dengan Classifier K-NN**"
      ],
      "metadata": {
        "id": "fumKtvzSRR0N"
      }
    },
    {
      "cell_type": "code",
      "source": [
        "from sklearn.model_selection import train_test_split\n",
        "from sklearn.neighbors import KNeighborsClassifier\n",
        "from sklearn.metrics import confusion_matrix, classification_report\n",
        "import pandas as pd\n",
        "\n",
        "nama_file = 'CPA2.xlsx'\n",
        "data = pd.read_excel(nama_file)\n",
        "\n",
        "X = data.iloc[:, :-1]\n",
        "y = data.iloc[:, -1]\n",
        "\n",
        "# Memisahkan data menjadi data pelatihan (50%) dan sisa data (50%)\n",
        "X_train, X_remaining, y_train, y_remaining = train_test_split(X, y, test_size=0.5, random_state=42)\n",
        "\n",
        "# Memisahkan sisa data menjadi data validasi (25%) dan data pengujian (25%)\n",
        "X_validation, X_test, y_validation, y_test = train_test_split(X_remaining, y_remaining, test_size=0.5, random_state=42)\n",
        "\n",
        "# Inisialisasi model K-NN dengan jumlah tetangga 5\n",
        "model = KNeighborsClassifier(n_neighbors=5)\n",
        "\n",
        "# Melatih model dengan data pelatihan\n",
        "model.fit(X_train, y_train)\n",
        "\n",
        "# Prediksi pada data pelatihan\n",
        "y_pred_train = model.predict(X_train)\n",
        "\n",
        "# Prediksi pada data validasi\n",
        "y_pred_validation = model.predict(X_validation)\n",
        "\n",
        "# Prediksi pada data pengujian\n",
        "y_pred_test = model.predict(X_test)\n",
        "\n",
        "# Evaluasi pada data pelatihan\n",
        "conf_matrix_train = confusion_matrix(y_train, y_pred_train)\n",
        "TP_train = conf_matrix_train[1, 1]\n",
        "TN_train = conf_matrix_train[0, 0]\n",
        "FP_train = conf_matrix_train[0, 1]\n",
        "FN_train = conf_matrix_train[1, 0]\n",
        "\n",
        "sensitivity_train = TP_train / (TP_train + FN_train)\n",
        "specificity_train = TN_train / (TN_train + FP_train)\n",
        "accuracy_train = (TP_train + TN_train) / (TP_train + TN_train + FP_train + FN_train)\n",
        "precision_train = TP_train / (TP_train + FP_train)\n",
        "recall_train = sensitivity_train\n",
        "f1_score_train = 2 * (precision_train * recall_train) / (precision_train + recall_train)\n",
        "\n",
        "# Evaluasi pada data validasi\n",
        "conf_matrix_validation = confusion_matrix(y_validation, y_pred_validation)\n",
        "TP_validation = conf_matrix_validation[1, 1]\n",
        "TN_validation = conf_matrix_validation[0, 0]\n",
        "FP_validation = conf_matrix_validation[0, 1]\n",
        "FN_validation = conf_matrix_validation[1, 0]\n",
        "\n",
        "sensitivity_validation = TP_validation / (TP_validation + FN_validation)\n",
        "specificity_validation = TN_validation / (TN_validation + FP_validation)\n",
        "accuracy_validation = (TP_validation + TN_validation) / (TP_validation + TN_validation + FP_validation + FN_validation)\n",
        "precision_validation = TP_validation / (TP_validation + FP_validation)\n",
        "recall_validation = sensitivity_validation\n",
        "f1_score_validation = 2 * (precision_validation * recall_validation) / (precision_validation + recall_validation)\n",
        "\n",
        "# Evaluasi pada data pengujian\n",
        "conf_matrix_test = confusion_matrix(y_test, y_pred_test)\n",
        "TP_test = conf_matrix_test[1, 1]\n",
        "TN_test = conf_matrix_test[0, 0]\n",
        "FP_test = conf_matrix_test[0, 1]\n",
        "FN_test = conf_matrix_test[1, 0]\n",
        "\n",
        "sensitivity_test = TP_test / (TP_test + FN_test)\n",
        "specificity_test = TN_test / (TN_test + FP_test)\n",
        "accuracy_test = (TP_test + TN_test) / (TP_test + TN_test + FP_test + FN_test)\n",
        "precision_test = TP_test / (TP_test + FP_test)\n",
        "recall_test = sensitivity_test\n",
        "f1_score_test = 2 * (precision_test * recall_test) / (precision_test + recall_test)\n",
        "\n",
        "# Menampilkan hasil evaluasi\n",
        "print(\"------ 50% Training, 25% Validation, & 25% Testing using K-NN Classifier ------\")\n",
        "print(\"[Training Set]\")\n",
        "print(\"Sensitivity:\", sensitivity_train)\n",
        "print(\"Specificity:\", specificity_train)\n",
        "print(\"Accuracy:\", accuracy_train)\n",
        "print(\"F1-Score:\", f1_score_train)\n",
        "\n",
        "print(\"\\n[Validation Set]\")\n",
        "print(\"Sensitivity:\", sensitivity_validation)\n",
        "print(\"Specificity:\", specificity_validation)\n",
        "print(\"Accuracy:\", accuracy_validation)\n",
        "print(\"F1-Score:\", f1_score_validation)\n",
        "\n",
        "print(\"\\n[Testing Set]\")\n",
        "print(\"Sensitivity:\", sensitivity_test)\n",
        "print(\"Specificity:\", specificity_test)\n",
        "print(\"Accuracy:\", accuracy_test)\n",
        "print(\"F1-Score:\", f1_score_test)\n"
      ],
      "metadata": {
        "colab": {
          "base_uri": "https://localhost:8080/"
        },
        "id": "xx3wvQFHRXNX",
        "outputId": "171bed00-7266-4358-8fca-25a06dcfe34c"
      },
      "execution_count": null,
      "outputs": [
        {
          "output_type": "stream",
          "name": "stdout",
          "text": [
            "------ 50% Training, 25% Validation, & 25% Testing using K-NN Classifier ------\n",
            "[Training Set]\n",
            "Sensitivity: 0.7450980392156863\n",
            "Specificity: 0.8367346938775511\n",
            "Accuracy: 0.79\n",
            "F1-Score: 0.7835051546391751\n",
            "\n",
            "[Validation Set]\n",
            "Sensitivity: 0.9285714285714286\n",
            "Specificity: 0.5\n",
            "Accuracy: 0.74\n",
            "F1-Score: 0.7999999999999999\n",
            "\n",
            "[Testing Set]\n",
            "Sensitivity: 0.8095238095238095\n",
            "Specificity: 0.5517241379310345\n",
            "Accuracy: 0.66\n",
            "F1-Score: 0.6666666666666666\n"
          ]
        }
      ]
    }
  ]
}