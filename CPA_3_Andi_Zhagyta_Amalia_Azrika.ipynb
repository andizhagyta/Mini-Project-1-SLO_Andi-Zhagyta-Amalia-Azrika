{
  "nbformat": 4,
  "nbformat_minor": 0,
  "metadata": {
    "colab": {
      "provenance": [],
      "authorship_tag": "ABX9TyMddTesW1W4T9YatG9UKCbZ",
      "include_colab_link": true
    },
    "kernelspec": {
      "name": "python3",
      "display_name": "Python 3"
    },
    "language_info": {
      "name": "python"
    }
  },
  "cells": [
    {
      "cell_type": "markdown",
      "metadata": {
        "id": "view-in-github",
        "colab_type": "text"
      },
      "source": [
        "<a href=\"https://colab.research.google.com/github/andizhagyta/Mini-Project-1-SLO_Andi-Zhagyta-Amalia-Azrika/blob/main/CPA_3_Andi_Zhagyta_Amalia_Azrika.ipynb\" target=\"_parent\"><img src=\"https://colab.research.google.com/assets/colab-badge.svg\" alt=\"Open In Colab\"/></a>"
      ]
    },
    {
      "cell_type": "code",
      "execution_count": null,
      "metadata": {
        "colab": {
          "base_uri": "https://localhost:8080/",
          "height": 73
        },
        "id": "XUHDiLwMBFCa",
        "outputId": "d282e815-18cb-4c77-a4bf-2883b3403d18"
      },
      "outputs": [
        {
          "output_type": "display_data",
          "data": {
            "text/plain": [
              "<IPython.core.display.HTML object>"
            ],
            "text/html": [
              "\n",
              "     <input type=\"file\" id=\"files-bffbad78-71a5-44c7-b203-83ea408888e3\" name=\"files[]\" multiple disabled\n",
              "        style=\"border:none\" />\n",
              "     <output id=\"result-bffbad78-71a5-44c7-b203-83ea408888e3\">\n",
              "      Upload widget is only available when the cell has been executed in the\n",
              "      current browser session. Please rerun this cell to enable.\n",
              "      </output>\n",
              "      <script>// Copyright 2017 Google LLC\n",
              "//\n",
              "// Licensed under the Apache License, Version 2.0 (the \"License\");\n",
              "// you may not use this file except in compliance with the License.\n",
              "// You may obtain a copy of the License at\n",
              "//\n",
              "//      http://www.apache.org/licenses/LICENSE-2.0\n",
              "//\n",
              "// Unless required by applicable law or agreed to in writing, software\n",
              "// distributed under the License is distributed on an \"AS IS\" BASIS,\n",
              "// WITHOUT WARRANTIES OR CONDITIONS OF ANY KIND, either express or implied.\n",
              "// See the License for the specific language governing permissions and\n",
              "// limitations under the License.\n",
              "\n",
              "/**\n",
              " * @fileoverview Helpers for google.colab Python module.\n",
              " */\n",
              "(function(scope) {\n",
              "function span(text, styleAttributes = {}) {\n",
              "  const element = document.createElement('span');\n",
              "  element.textContent = text;\n",
              "  for (const key of Object.keys(styleAttributes)) {\n",
              "    element.style[key] = styleAttributes[key];\n",
              "  }\n",
              "  return element;\n",
              "}\n",
              "\n",
              "// Max number of bytes which will be uploaded at a time.\n",
              "const MAX_PAYLOAD_SIZE = 100 * 1024;\n",
              "\n",
              "function _uploadFiles(inputId, outputId) {\n",
              "  const steps = uploadFilesStep(inputId, outputId);\n",
              "  const outputElement = document.getElementById(outputId);\n",
              "  // Cache steps on the outputElement to make it available for the next call\n",
              "  // to uploadFilesContinue from Python.\n",
              "  outputElement.steps = steps;\n",
              "\n",
              "  return _uploadFilesContinue(outputId);\n",
              "}\n",
              "\n",
              "// This is roughly an async generator (not supported in the browser yet),\n",
              "// where there are multiple asynchronous steps and the Python side is going\n",
              "// to poll for completion of each step.\n",
              "// This uses a Promise to block the python side on completion of each step,\n",
              "// then passes the result of the previous step as the input to the next step.\n",
              "function _uploadFilesContinue(outputId) {\n",
              "  const outputElement = document.getElementById(outputId);\n",
              "  const steps = outputElement.steps;\n",
              "\n",
              "  const next = steps.next(outputElement.lastPromiseValue);\n",
              "  return Promise.resolve(next.value.promise).then((value) => {\n",
              "    // Cache the last promise value to make it available to the next\n",
              "    // step of the generator.\n",
              "    outputElement.lastPromiseValue = value;\n",
              "    return next.value.response;\n",
              "  });\n",
              "}\n",
              "\n",
              "/**\n",
              " * Generator function which is called between each async step of the upload\n",
              " * process.\n",
              " * @param {string} inputId Element ID of the input file picker element.\n",
              " * @param {string} outputId Element ID of the output display.\n",
              " * @return {!Iterable<!Object>} Iterable of next steps.\n",
              " */\n",
              "function* uploadFilesStep(inputId, outputId) {\n",
              "  const inputElement = document.getElementById(inputId);\n",
              "  inputElement.disabled = false;\n",
              "\n",
              "  const outputElement = document.getElementById(outputId);\n",
              "  outputElement.innerHTML = '';\n",
              "\n",
              "  const pickedPromise = new Promise((resolve) => {\n",
              "    inputElement.addEventListener('change', (e) => {\n",
              "      resolve(e.target.files);\n",
              "    });\n",
              "  });\n",
              "\n",
              "  const cancel = document.createElement('button');\n",
              "  inputElement.parentElement.appendChild(cancel);\n",
              "  cancel.textContent = 'Cancel upload';\n",
              "  const cancelPromise = new Promise((resolve) => {\n",
              "    cancel.onclick = () => {\n",
              "      resolve(null);\n",
              "    };\n",
              "  });\n",
              "\n",
              "  // Wait for the user to pick the files.\n",
              "  const files = yield {\n",
              "    promise: Promise.race([pickedPromise, cancelPromise]),\n",
              "    response: {\n",
              "      action: 'starting',\n",
              "    }\n",
              "  };\n",
              "\n",
              "  cancel.remove();\n",
              "\n",
              "  // Disable the input element since further picks are not allowed.\n",
              "  inputElement.disabled = true;\n",
              "\n",
              "  if (!files) {\n",
              "    return {\n",
              "      response: {\n",
              "        action: 'complete',\n",
              "      }\n",
              "    };\n",
              "  }\n",
              "\n",
              "  for (const file of files) {\n",
              "    const li = document.createElement('li');\n",
              "    li.append(span(file.name, {fontWeight: 'bold'}));\n",
              "    li.append(span(\n",
              "        `(${file.type || 'n/a'}) - ${file.size} bytes, ` +\n",
              "        `last modified: ${\n",
              "            file.lastModifiedDate ? file.lastModifiedDate.toLocaleDateString() :\n",
              "                                    'n/a'} - `));\n",
              "    const percent = span('0% done');\n",
              "    li.appendChild(percent);\n",
              "\n",
              "    outputElement.appendChild(li);\n",
              "\n",
              "    const fileDataPromise = new Promise((resolve) => {\n",
              "      const reader = new FileReader();\n",
              "      reader.onload = (e) => {\n",
              "        resolve(e.target.result);\n",
              "      };\n",
              "      reader.readAsArrayBuffer(file);\n",
              "    });\n",
              "    // Wait for the data to be ready.\n",
              "    let fileData = yield {\n",
              "      promise: fileDataPromise,\n",
              "      response: {\n",
              "        action: 'continue',\n",
              "      }\n",
              "    };\n",
              "\n",
              "    // Use a chunked sending to avoid message size limits. See b/62115660.\n",
              "    let position = 0;\n",
              "    do {\n",
              "      const length = Math.min(fileData.byteLength - position, MAX_PAYLOAD_SIZE);\n",
              "      const chunk = new Uint8Array(fileData, position, length);\n",
              "      position += length;\n",
              "\n",
              "      const base64 = btoa(String.fromCharCode.apply(null, chunk));\n",
              "      yield {\n",
              "        response: {\n",
              "          action: 'append',\n",
              "          file: file.name,\n",
              "          data: base64,\n",
              "        },\n",
              "      };\n",
              "\n",
              "      let percentDone = fileData.byteLength === 0 ?\n",
              "          100 :\n",
              "          Math.round((position / fileData.byteLength) * 100);\n",
              "      percent.textContent = `${percentDone}% done`;\n",
              "\n",
              "    } while (position < fileData.byteLength);\n",
              "  }\n",
              "\n",
              "  // All done.\n",
              "  yield {\n",
              "    response: {\n",
              "      action: 'complete',\n",
              "    }\n",
              "  };\n",
              "}\n",
              "\n",
              "scope.google = scope.google || {};\n",
              "scope.google.colab = scope.google.colab || {};\n",
              "scope.google.colab._files = {\n",
              "  _uploadFiles,\n",
              "  _uploadFilesContinue,\n",
              "};\n",
              "})(self);\n",
              "</script> "
            ]
          },
          "metadata": {}
        },
        {
          "output_type": "stream",
          "name": "stdout",
          "text": [
            "Saving CPA3.xlsx to CPA3.xlsx\n"
          ]
        }
      ],
      "source": [
        "from google.colab import files\n",
        "uploaded = files.upload()"
      ]
    },
    {
      "cell_type": "code",
      "source": [
        "import pandas as pd\n",
        "\n",
        "nama_file = 'CPA3.xlsx'\n",
        "df = pd.read_excel(nama_file, header=None)\n",
        "print(df.head())"
      ],
      "metadata": {
        "colab": {
          "base_uri": "https://localhost:8080/"
        },
        "id": "3wnY75xGBLff",
        "outputId": "78b393f7-5998-40c5-a227-45d3c21c451a"
      },
      "execution_count": null,
      "outputs": [
        {
          "output_type": "stream",
          "name": "stdout",
          "text": [
            "          0         1         2         3         4      5\n",
            "0    powLv1    powLv2    powLv3    powLv4    powLv5  kelas\n",
            "1  0.446692  0.220117  0.144672  0.106003  0.082516      A\n",
            "2  0.442455  0.219658  0.145039  0.107494  0.085354      A\n",
            "3  0.446993  0.220535  0.144443  0.105565  0.082465      A\n",
            "4   0.45709  0.221898  0.141954  0.101666  0.077392      A\n"
          ]
        }
      ]
    },
    {
      "cell_type": "markdown",
      "source": [
        "**Skenario 10-Fold Cross Validation**"
      ],
      "metadata": {
        "id": "Hp2xKKThT34r"
      }
    },
    {
      "cell_type": "code",
      "source": [
        "from sklearn.model_selection import cross_val_score, KFold\n",
        "from sklearn.svm import SVC\n",
        "import numpy as np\n",
        "\n",
        "nama_file = 'CPA3.xlsx'\n",
        "data = pd.read_excel(nama_file)\n",
        "\n",
        "# Misalkan kolom terakhir adalah kolom target (y) dan kolom lainnya adalah fitur (X)\n",
        "X = data.iloc[:, :-1]  # Ambil semua kolom kecuali kolom terakhir\n",
        "y = data.iloc[:, -1]   # Ambil kolom terakhir sebagai target\n",
        "\n",
        "model = SVC(kernel='linear')\n",
        "\n",
        "k_fold = KFold(n_splits=10, shuffle=True, random_state=42)\n",
        "\n",
        "scores = cross_val_score(model, X, y, cv=k_fold)\n",
        "\n",
        "print(\"Accuracy of each fold:\", scores)\n",
        "print(\"Average accuracy:\", np.mean(scores))"
      ],
      "metadata": {
        "colab": {
          "base_uri": "https://localhost:8080/"
        },
        "id": "F9L6pyZeBRqL",
        "outputId": "bffd702d-32c5-4a9b-8483-fbb99bdf0ea2"
      },
      "execution_count": null,
      "outputs": [
        {
          "output_type": "stream",
          "name": "stdout",
          "text": [
            "Accuracy of each fold: [0.53333333 0.73333333 0.83333333 0.66666667 0.8        0.6\n",
            " 0.53333333 0.56666667 0.66666667 0.73333333]\n",
            "Average accuracy: 0.6666666666666667\n"
          ]
        }
      ]
    },
    {
      "cell_type": "markdown",
      "source": [
        "**Skenario 10-Fold Cross Validation dengan Classifier SVM**"
      ],
      "metadata": {
        "id": "cgZJyaASUBdx"
      }
    },
    {
      "cell_type": "code",
      "source": [
        "from sklearn.model_selection import cross_val_predict, KFold\n",
        "from sklearn.metrics import confusion_matrix, classification_report\n",
        "from sklearn.svm import SVC\n",
        "import numpy as np\n",
        "import pandas as pd\n",
        "\n",
        "nama_file = 'CPA3.xlsx'\n",
        "data = pd.read_excel(nama_file)\n",
        "\n",
        "X = data.iloc[:, :-1]\n",
        "y = data.iloc[:, -1]\n",
        "\n",
        "# Menggunakan Support Vector Machine (SVM) dengan kernel linear\n",
        "model = SVC(kernel='linear')\n",
        "\n",
        "k_fold = KFold(n_splits=10, shuffle=True, random_state=42)\n",
        "\n",
        "# Prediksi dengan cross-validation\n",
        "y_pred = cross_val_predict(model, X, y, cv=k_fold)\n",
        "\n",
        "# Confusion matrix\n",
        "conf_matrix = confusion_matrix(y, y_pred)\n",
        "\n",
        "# Menghitung parameter performansi\n",
        "TP = conf_matrix[1, 1]  # True Positives\n",
        "TN = conf_matrix[0, 0]  # True Negatives\n",
        "FP = conf_matrix[0, 1]  # False Positives\n",
        "FN = conf_matrix[1, 0]  # False Negatives\n",
        "\n",
        "# Handle division by zero\n",
        "precision = TP / (TP + FP) if (TP + FP) != 0 else 0\n",
        "recall = TP / (TP + FN) if (TP + FN) != 0 else 0\n",
        "\n",
        "# Handle division by zero for F1-Score\n",
        "if precision + recall == 0:\n",
        "    f1_score = 0\n",
        "else:\n",
        "    f1_score = 2 * (precision * recall) / (precision + recall)\n",
        "\n",
        "accuracy = (TP + TN) / (TP + TN + FP + FN)\n",
        "\n",
        "print(\"------ 10-Fold CV using SVM Classifier ------\")\n",
        "print(\"Sensitivity:\", recall)\n",
        "print(\"Specificity:\", TN / (TN + FP))\n",
        "print(\"Accuracy:\", accuracy)\n",
        "print(\"F1-Score:\", f1_score)\n"
      ],
      "metadata": {
        "colab": {
          "base_uri": "https://localhost:8080/"
        },
        "id": "Wym-lF-FBUW3",
        "outputId": "65b6b131-8325-4511-ee6e-bec4554e46c1"
      },
      "execution_count": null,
      "outputs": [
        {
          "output_type": "stream",
          "name": "stdout",
          "text": [
            "------ 10-Fold CV using SVM Classifier ------\n",
            "Sensitivity: 0.0\n",
            "Specificity: 1.0\n",
            "Accuracy: 0.6666666666666666\n",
            "F1-Score: 0\n"
          ]
        }
      ]
    },
    {
      "cell_type": "markdown",
      "source": [
        "**Skenario 10-Fold Cross Validation dengan Classifier K-NN**"
      ],
      "metadata": {
        "id": "uHaoCnaEUI_1"
      }
    },
    {
      "cell_type": "code",
      "source": [
        "from sklearn.model_selection import cross_val_predict, KFold\n",
        "from sklearn.metrics import confusion_matrix, classification_report\n",
        "from sklearn.neighbors import KNeighborsClassifier\n",
        "import numpy as np\n",
        "import pandas as pd\n",
        "\n",
        "nama_file = 'CPA3.xlsx'\n",
        "data = pd.read_excel(nama_file)\n",
        "\n",
        "X = data.iloc[:, :-1]\n",
        "y = data.iloc[:, -1]\n",
        "\n",
        "# Menggunakan K-Nearest Neighbors (K-NN) dengan jumlah tetangga (n_neighbors) 5\n",
        "model = KNeighborsClassifier(n_neighbors=5)\n",
        "\n",
        "k_fold = KFold(n_splits=10, shuffle=True, random_state=42)\n",
        "\n",
        "# Prediksi dengan cross-validation\n",
        "y_pred = cross_val_predict(model, X, y, cv=k_fold)\n",
        "\n",
        "# Confusion matrix\n",
        "conf_matrix = confusion_matrix(y, y_pred)\n",
        "\n",
        "# Menghitung parameter performansi\n",
        "TP = conf_matrix[1, 1]  # True Positives\n",
        "TN = conf_matrix[0, 0]  # True Negatives\n",
        "FP = conf_matrix[0, 1]  # False Positives\n",
        "FN = conf_matrix[1, 0]  # False Negatives\n",
        "\n",
        "sensitivity = TP / (TP + FN)\n",
        "specificity = TN / (TN + FP)\n",
        "accuracy = (TP + TN) / (TP + TN + FP + FN)\n",
        "precision = TP / (TP + FP)\n",
        "recall = sensitivity\n",
        "f1_score = 2 * (precision * recall) / (precision + recall)\n",
        "\n",
        "print(\"------ 10-Fold CV using K-NN Classifier ------\")\n",
        "print(\"Sensitivity:\", sensitivity)\n",
        "print(\"Specificity:\", specificity)\n",
        "print(\"Accuracy:\", accuracy)\n",
        "print(\"F1-Score:\", f1_score)"
      ],
      "metadata": {
        "colab": {
          "base_uri": "https://localhost:8080/"
        },
        "id": "bm6rN9axBWrK",
        "outputId": "ce8eaec0-117c-44fb-fdd4-55b0e2862917"
      },
      "execution_count": null,
      "outputs": [
        {
          "output_type": "stream",
          "name": "stdout",
          "text": [
            "------ 10-Fold CV using K-NN Classifier ------\n",
            "Sensitivity: 0.53\n",
            "Specificity: 0.865\n",
            "Accuracy: 0.7533333333333333\n",
            "F1-Score: 0.588888888888889\n"
          ]
        }
      ]
    },
    {
      "cell_type": "markdown",
      "source": [
        "**Skenario 75% Training dan 25% Testing dengan Classifier SVM**"
      ],
      "metadata": {
        "id": "bJ3YYfcpUP7u"
      }
    },
    {
      "cell_type": "code",
      "source": [
        "from sklearn.model_selection import train_test_split\n",
        "from sklearn.svm import SVC\n",
        "from sklearn.metrics import confusion_matrix, precision_recall_fscore_support\n",
        "from sklearn.preprocessing import LabelEncoder\n",
        "import pandas as pd\n",
        "\n",
        "nama_file = 'CPA3.xlsx'\n",
        "data = pd.read_excel(nama_file)\n",
        "\n",
        "X = data.iloc[:, :-1]\n",
        "y = data.iloc[:, -1]\n",
        "\n",
        "# Encode categorical labels into binary form\n",
        "label_encoder = LabelEncoder()\n",
        "y = label_encoder.fit_transform(y)\n",
        "\n",
        "# Bagi data menjadi 75% Training Data dan 25% Testing Data\n",
        "X_train, X_test, y_train, y_test = train_test_split(X, y, test_size=0.25, random_state=42)\n",
        "\n",
        "# Inisialisasi model SVM\n",
        "svm_model = SVC(kernel='linear')\n",
        "\n",
        "# Latih model dengan training data\n",
        "svm_model.fit(X_train, y_train)\n",
        "\n",
        "# Prediksi menggunakan data uji\n",
        "y_pred_train = svm_model.predict(X_train)\n",
        "y_pred_test = svm_model.predict(X_test)\n",
        "\n",
        "# Evaluasi metrik untuk SVM pada data pelatihan\n",
        "precision_train, recall_train, f1_score_train, _ = precision_recall_fscore_support(y_train, y_pred_train, average='binary', zero_division=1)\n",
        "\n",
        "# Evaluasi metrik untuk SVM pada data pengujian\n",
        "precision_test, recall_test, f1_score_test, _ = precision_recall_fscore_support(y_test, y_pred_test, average='binary', zero_division=1)\n",
        "\n",
        "print(\"------ 75% Training & 25% Testing using SVM Classifier ------\")\n",
        "print(\"[Training Set]\")\n",
        "print(\"Sensitivity:\", recall_train)\n",
        "print(\"Specificity:\", specificity_train)\n",
        "print(\"Accuracy:\", accuracy_train)\n",
        "print(\"F1-Score:\", f1_score_train)\n",
        "\n",
        "print(\"\\n[Testing Set]\")\n",
        "print(\"Sensitivity:\", recall_test)\n",
        "print(\"Specificity:\", specificity_test)\n",
        "print(\"Accuracy:\", accuracy_test)\n",
        "print(\"F1-Score:\", f1_score_test)\n"
      ],
      "metadata": {
        "colab": {
          "base_uri": "https://localhost:8080/"
        },
        "id": "K836mzshBeqJ",
        "outputId": "40b7e15c-c4a4-4ca4-f225-24edd4ad096b"
      },
      "execution_count": null,
      "outputs": [
        {
          "output_type": "stream",
          "name": "stdout",
          "text": [
            "------ 75% Training & 25% Testing using SVM Classifier ------\n",
            "[Training Set]\n",
            "Sensitivity: 0.0\n",
            "Specificity: 1.0\n",
            "Accuracy: 0.6666666666666666\n",
            "F1-Score: 0.0\n",
            "\n",
            "[Testing Set]\n",
            "Sensitivity: 0.0\n",
            "Specificity: 1.0\n",
            "Accuracy: 0.6666666666666666\n",
            "F1-Score: 0.0\n"
          ]
        }
      ]
    },
    {
      "cell_type": "markdown",
      "source": [
        "**Skenario 75% Training dan 25% Testing dengan Classifier K-NN**"
      ],
      "metadata": {
        "id": "4HB2AQPuUXdQ"
      }
    },
    {
      "cell_type": "code",
      "source": [
        "from sklearn.model_selection import train_test_split\n",
        "from sklearn.neighbors import KNeighborsClassifier\n",
        "from sklearn.metrics import confusion_matrix\n",
        "import pandas as pd\n",
        "\n",
        "nama_file = 'CPA3.xlsx'\n",
        "data = pd.read_excel(nama_file)\n",
        "\n",
        "X = data.iloc[:, :-1]\n",
        "y = data.iloc[:, -1]\n",
        "\n",
        "# Bagi data menjadi 75% Training Data dan 25% Testing Data\n",
        "X_train, X_test, y_train, y_test = train_test_split(X, y, test_size=0.25, random_state=42)\n",
        "\n",
        "# Inisialisasi model K-NN dengan jumlah tetangga (n_neighbors) yang diinginkan\n",
        "knn_model = KNeighborsClassifier(n_neighbors=5)\n",
        "\n",
        "# Latih model dengan training data\n",
        "knn_model.fit(X_train, y_train)\n",
        "\n",
        "# Prediksi menggunakan data uji\n",
        "y_pred_train = knn_model.predict(X_train)\n",
        "y_pred_test = knn_model.predict(X_test)\n",
        "\n",
        "# Evaluasi metrik untuk K-NN pada data pelatihan\n",
        "conf_matrix_train = confusion_matrix(y_train, y_pred_train)\n",
        "TN_train, FP_train, FN_train, TP_train = conf_matrix_train.ravel()\n",
        "sensitivity_train = TP_train / (TP_train + FN_train)\n",
        "specificity_train = TN_train / (TN_train + FP_train)\n",
        "accuracy_train = (TP_train + TN_train) / (TP_train + TN_train + FP_train + FN_train)\n",
        "precision_train = TP_train / (TP_train + FP_train)\n",
        "recall_train = sensitivity_train\n",
        "f1_score_train = 2 * (precision_train * recall_train) / (precision_train + recall_train)\n",
        "\n",
        "# Evaluasi metrik untuk K-NN pada data pengujian\n",
        "conf_matrix_test = confusion_matrix(y_test, y_pred_test)\n",
        "TN_test, FP_test, FN_test, TP_test = conf_matrix_test.ravel()\n",
        "sensitivity_test = TP_test / (TP_test + FN_test)\n",
        "specificity_test = TN_test / (TN_test + FP_test)\n",
        "accuracy_test = (TP_test + TN_test) / (TP_test + TN_test + FP_test + FN_test)\n",
        "precision_test = TP_test / (TP_test + FP_test)\n",
        "recall_test = sensitivity_test\n",
        "f1_score_test = 2 * (precision_test * recall_test) / (precision_test + recall_test)\n",
        "\n",
        "# Menampilkan hasil evaluasi\n",
        "print(\"------ 75% Training & 25% Testing using K-NN Classifier ------\")\n",
        "print(\"[Training Set]\")\n",
        "print(\"Sensitivity:\", sensitivity_train)\n",
        "print(\"Specificity:\", specificity_train)\n",
        "print(\"Accuracy:\", accuracy_train)\n",
        "print(\"F1-Score:\", f1_score_train)\n",
        "\n",
        "print(\"\\n[Testing Set]\")\n",
        "print(\"Sensitivity:\", sensitivity_test)\n",
        "print(\"Specificity:\", specificity_test)\n",
        "print(\"Accuracy:\", accuracy_test)\n",
        "print(\"F1-Score:\", f1_score_test)"
      ],
      "metadata": {
        "colab": {
          "base_uri": "https://localhost:8080/"
        },
        "id": "649bf-fvBiCs",
        "outputId": "68c3737d-eb11-4ae9-c4ce-87e41c94e2cc"
      },
      "execution_count": null,
      "outputs": [
        {
          "output_type": "stream",
          "name": "stdout",
          "text": [
            "------ 75% Training & 25% Testing using K-NN Classifier ------\n",
            "[Training Set]\n",
            "Sensitivity: 0.5866666666666667\n",
            "Specificity: 0.9466666666666667\n",
            "Accuracy: 0.8266666666666667\n",
            "F1-Score: 0.6929133858267718\n",
            "\n",
            "[Testing Set]\n",
            "Sensitivity: 0.52\n",
            "Specificity: 0.9\n",
            "Accuracy: 0.7733333333333333\n",
            "F1-Score: 0.6046511627906976\n"
          ]
        }
      ]
    },
    {
      "cell_type": "markdown",
      "source": [
        "**Skenario 50% Training, 25% Validation, dan 25% Testing dengan Classifier SVM**"
      ],
      "metadata": {
        "id": "xLlFolfaUc0m"
      }
    },
    {
      "cell_type": "code",
      "source": [
        "from sklearn.model_selection import train_test_split\n",
        "from sklearn.svm import SVC\n",
        "from sklearn.metrics import confusion_matrix\n",
        "import pandas as pd\n",
        "\n",
        "nama_file = 'CPA3.xlsx'\n",
        "data = pd.read_excel(nama_file)\n",
        "\n",
        "X = data.iloc[:, :-1]\n",
        "y = data.iloc[:, -1]\n",
        "\n",
        "# Memisahkan data menjadi data pelatihan (50%) dan sisa data (50%)\n",
        "X_train, X_remaining, y_train, y_remaining = train_test_split(X, y, test_size=0.5, random_state=42)\n",
        "\n",
        "# Memisahkan sisa data menjadi data validasi (25%) dan data pengujian (25%)\n",
        "X_validation, X_test, y_validation, y_test = train_test_split(X_remaining, y_remaining, test_size=0.5, random_state=42)\n",
        "\n",
        "# Inisialisasi model SVM\n",
        "model = SVC(kernel='linear')\n",
        "\n",
        "model.fit(X_train, y_train)\n",
        "\n",
        "#Prediksi data\n",
        "y_pred_train = model.predict(X_train)\n",
        "y_pred_validation = model.predict(X_validation)\n",
        "y_pred_test = model.predict(X_test)\n",
        "\n",
        "# Evaluasi pada data pelatihan\n",
        "conf_matrix_train = confusion_matrix(y_train, y_pred_train)\n",
        "TP_train = conf_matrix_train[1, 1]\n",
        "TN_train = conf_matrix_train[0, 0]\n",
        "FP_train = conf_matrix_train[0, 1]\n",
        "FN_train = conf_matrix_train[1, 0]\n",
        "\n",
        "# Handle division by zero\n",
        "precision_train = TP_train / (TP_train + FP_train) if (TP_train + FP_train) != 0 else 0\n",
        "recall_train = TP_train / (TP_train + FN_train) if (TP_train + FN_train) != 0 else 0\n",
        "f1_score_train = 2 * (precision_train * recall_train) / (precision_train + recall_train) if (precision_train + recall_train) != 0 else 0\n",
        "\n",
        "# Evaluasi pada data validasi\n",
        "conf_matrix_validation = confusion_matrix(y_validation, y_pred_validation)\n",
        "TP_validation = conf_matrix_validation[1, 1]\n",
        "TN_validation = conf_matrix_validation[0, 0]\n",
        "FP_validation = conf_matrix_validation[0, 1]\n",
        "FN_validation = conf_matrix_validation[1, 0]\n",
        "\n",
        "# Handle division by zero\n",
        "precision_validation = TP_validation / (TP_validation + FP_validation) if (TP_validation + FP_validation) != 0 else 0\n",
        "recall_validation = TP_validation / (TP_validation + FN_validation) if (TP_validation + FN_validation) != 0 else 0\n",
        "f1_score_validation = 2 * (precision_validation * recall_validation) / (precision_validation + recall_validation) if (precision_validation + recall_validation) != 0 else 0\n",
        "\n",
        "# Evaluasi pada data pengujian\n",
        "conf_matrix_test = confusion_matrix(y_test, y_pred_test)\n",
        "TP_test = conf_matrix_test[1, 1]\n",
        "TN_test = conf_matrix_test[0, 0]\n",
        "FP_test = conf_matrix_test[0, 1]\n",
        "FN_test = conf_matrix_test[1, 0]\n",
        "\n",
        "# Handle division by zero\n",
        "precision_test = TP_test / (TP_test + FP_test) if (TP_test + FP_test) != 0 else 0\n",
        "recall_test = TP_test / (TP_test + FN_test) if (TP_test + FN_test) != 0 else 0\n",
        "f1_score_test = 2 * (precision_test * recall_test) / (precision_test + recall_test) if (precision_test + recall_test) != 0 else 0\n",
        "\n",
        "# Menampilkan hasil evaluasi\n",
        "print(\"------ 50% Training, 25% Validation, & 25% Testing using SVM Classifier ------\")\n",
        "print(\"[Training Set]\")\n",
        "print(\"Sensitivity:\", recall_train)\n",
        "print(\"Specificity:\", TN_train / (TN_train + FP_train))\n",
        "print(\"Accuracy:\", (TP_train + TN_train) / (TP_train + TN_train + FP_train + FN_train))\n",
        "print(\"F1-Score:\", f1_score_train)\n",
        "\n",
        "print(\"\\n[Validation Set]\")\n",
        "print(\"Sensitivity:\", recall_validation)\n",
        "print(\"Specificity:\", TN_validation / (TN_validation + FP_validation))\n",
        "print(\"Accuracy:\", (TP_validation + TN_validation) / (TP_validation + TN_validation + FP_validation + FN_validation))\n",
        "print(\"F1-Score:\", f1_score_validation)\n",
        "\n",
        "print(\"\\n[Testing Set]\")\n",
        "print(\"Sensitivity:\", recall_test)\n",
        "print(\"Specificity:\", TN_test / (TN_test + FP_test))\n",
        "print(\"Accuracy:\", (TP_test + TN_test) / (TP_test + TN_test + FP_test + FN_test))\n",
        "print(\"F1-Score:\", f1_score_test)\n"
      ],
      "metadata": {
        "colab": {
          "base_uri": "https://localhost:8080/"
        },
        "id": "rHNwhnmEUfm3",
        "outputId": "ed12477f-b450-4068-e897-bbc086277bb1"
      },
      "execution_count": null,
      "outputs": [
        {
          "output_type": "stream",
          "name": "stdout",
          "text": [
            "------ 50% Training, 25% Validation, & 25% Testing using SVM Classifier ------\n",
            "[Training Set]\n",
            "Sensitivity: 0.0\n",
            "Specificity: 1.0\n",
            "Accuracy: 0.62\n",
            "F1-Score: 0\n",
            "\n",
            "[Validation Set]\n",
            "Sensitivity: 0.0\n",
            "Specificity: 1.0\n",
            "Accuracy: 0.72\n",
            "F1-Score: 0\n",
            "\n",
            "[Testing Set]\n",
            "Sensitivity: 0.0\n",
            "Specificity: 1.0\n",
            "Accuracy: 0.7066666666666667\n",
            "F1-Score: 0\n"
          ]
        }
      ]
    },
    {
      "cell_type": "markdown",
      "source": [
        "**Skenario 50% Training, 25% Validation, dan 25% Testing dengan Classifier K-NN**"
      ],
      "metadata": {
        "id": "XHqlfQ3CUjez"
      }
    },
    {
      "cell_type": "code",
      "source": [
        "from sklearn.model_selection import train_test_split\n",
        "from sklearn.neighbors import KNeighborsClassifier\n",
        "from sklearn.metrics import confusion_matrix, classification_report\n",
        "import pandas as pd\n",
        "\n",
        "nama_file = 'CPA3.xlsx'\n",
        "data = pd.read_excel(nama_file)\n",
        "\n",
        "X = data.iloc[:, :-1]\n",
        "y = data.iloc[:, -1]\n",
        "\n",
        "# Memisahkan data menjadi data pelatihan (50%) dan sisa data (50%)\n",
        "X_train, X_remaining, y_train, y_remaining = train_test_split(X, y, test_size=0.5, random_state=42)\n",
        "\n",
        "# Memisahkan sisa data menjadi data validasi (25%) dan data pengujian (25%)\n",
        "X_validation, X_test, y_validation, y_test = train_test_split(X_remaining, y_remaining, test_size=0.5, random_state=42)\n",
        "\n",
        "# Inisialisasi model K-NN dengan jumlah tetangga 5\n",
        "model = KNeighborsClassifier(n_neighbors=5)\n",
        "\n",
        "# Melatih model dengan data pelatihan\n",
        "model.fit(X_train, y_train)\n",
        "\n",
        "# Prediksi pada data pelatihan\n",
        "y_pred_train = model.predict(X_train)\n",
        "\n",
        "# Prediksi pada data validasi\n",
        "y_pred_validation = model.predict(X_validation)\n",
        "\n",
        "# Prediksi pada data pengujian\n",
        "y_pred_test = model.predict(X_test)\n",
        "\n",
        "# Evaluasi pada data pelatihan\n",
        "conf_matrix_train = confusion_matrix(y_train, y_pred_train)\n",
        "TP_train = conf_matrix_train[1, 1]\n",
        "TN_train = conf_matrix_train[0, 0]\n",
        "FP_train = conf_matrix_train[0, 1]\n",
        "FN_train = conf_matrix_train[1, 0]\n",
        "\n",
        "sensitivity_train = TP_train / (TP_train + FN_train)\n",
        "specificity_train = TN_train / (TN_train + FP_train)\n",
        "accuracy_train = (TP_train + TN_train) / (TP_train + TN_train + FP_train + FN_train)\n",
        "precision_train = TP_train / (TP_train + FP_train)\n",
        "recall_train = sensitivity_train\n",
        "f1_score_train = 2 * (precision_train * recall_train) / (precision_train + recall_train)\n",
        "\n",
        "# Evaluasi pada data validasi\n",
        "conf_matrix_validation = confusion_matrix(y_validation, y_pred_validation)\n",
        "TP_validation = conf_matrix_validation[1, 1]\n",
        "TN_validation = conf_matrix_validation[0, 0]\n",
        "FP_validation = conf_matrix_validation[0, 1]\n",
        "FN_validation = conf_matrix_validation[1, 0]\n",
        "\n",
        "sensitivity_validation = TP_validation / (TP_validation + FN_validation)\n",
        "specificity_validation = TN_validation / (TN_validation + FP_validation)\n",
        "accuracy_validation = (TP_validation + TN_validation) / (TP_validation + TN_validation + FP_validation + FN_validation)\n",
        "precision_validation = TP_validation / (TP_validation + FP_validation)\n",
        "recall_validation = sensitivity_validation\n",
        "f1_score_validation = 2 * (precision_validation * recall_validation) / (precision_validation + recall_validation)\n",
        "\n",
        "# Evaluasi pada data pengujian\n",
        "conf_matrix_test = confusion_matrix(y_test, y_pred_test)\n",
        "TP_test = conf_matrix_test[1, 1]\n",
        "TN_test = conf_matrix_test[0, 0]\n",
        "FP_test = conf_matrix_test[0, 1]\n",
        "FN_test = conf_matrix_test[1, 0]\n",
        "\n",
        "sensitivity_test = TP_test / (TP_test + FN_test)\n",
        "specificity_test = TN_test / (TN_test + FP_test)\n",
        "accuracy_test = (TP_test + TN_test) / (TP_test + TN_test + FP_test + FN_test)\n",
        "precision_test = TP_test / (TP_test + FP_test)\n",
        "recall_test = sensitivity_test\n",
        "f1_score_test = 2 * (precision_test * recall_test) / (precision_test + recall_test)\n",
        "\n",
        "# Menampilkan hasil evaluasi\n",
        "print(\"------ 50% Training, 25% Validation, & 25% Testing using K-NN Classifier ------\")\n",
        "print(\"[Training Set]\")\n",
        "print(\"Sensitivity:\", sensitivity_train)\n",
        "print(\"Specificity:\", specificity_train)\n",
        "print(\"Accuracy:\", accuracy_train)\n",
        "print(\"F1-Score:\", f1_score_train)\n",
        "\n",
        "print(\"\\n[Validation Set]\")\n",
        "print(\"Sensitivity:\", sensitivity_validation)\n",
        "print(\"Specificity:\", specificity_validation)\n",
        "print(\"Accuracy:\", accuracy_validation)\n",
        "print(\"F1-Score:\", f1_score_validation)\n",
        "\n",
        "print(\"\\n[Testing Set]\")\n",
        "print(\"Sensitivity:\", sensitivity_test)\n",
        "print(\"Specificity:\", specificity_test)\n",
        "print(\"Accuracy:\", accuracy_test)\n",
        "print(\"F1-Score:\", f1_score_test)"
      ],
      "metadata": {
        "colab": {
          "base_uri": "https://localhost:8080/"
        },
        "id": "JNUs-AAvUmpt",
        "outputId": "51e10dd7-7343-4daf-ad72-9117925d027b"
      },
      "execution_count": null,
      "outputs": [
        {
          "output_type": "stream",
          "name": "stdout",
          "text": [
            "------ 50% Training, 25% Validation, & 25% Testing using K-NN Classifier ------\n",
            "[Training Set]\n",
            "Sensitivity: 0.5614035087719298\n",
            "Specificity: 0.9247311827956989\n",
            "Accuracy: 0.7866666666666666\n",
            "F1-Score: 0.6666666666666666\n",
            "\n",
            "[Validation Set]\n",
            "Sensitivity: 0.42857142857142855\n",
            "Specificity: 0.8888888888888888\n",
            "Accuracy: 0.76\n",
            "F1-Score: 0.5\n",
            "\n",
            "[Testing Set]\n",
            "Sensitivity: 0.5454545454545454\n",
            "Specificity: 0.8679245283018868\n",
            "Accuracy: 0.7733333333333333\n",
            "F1-Score: 0.5853658536585366\n"
          ]
        }
      ]
    }
  ]
}