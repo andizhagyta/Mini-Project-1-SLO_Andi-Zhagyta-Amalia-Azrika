{
  "nbformat": 4,
  "nbformat_minor": 0,
  "metadata": {
    "colab": {
      "provenance": [],
      "authorship_tag": "ABX9TyMvyiK7sjJ+O55IwJOIFL7w",
      "include_colab_link": true
    },
    "kernelspec": {
      "name": "python3",
      "display_name": "Python 3"
    },
    "language_info": {
      "name": "python"
    }
  },
  "cells": [
    {
      "cell_type": "markdown",
      "metadata": {
        "id": "view-in-github",
        "colab_type": "text"
      },
      "source": [
        "<a href=\"https://colab.research.google.com/github/andizhagyta/Mini-Project-1-SLO_Andi-Zhagyta-Amalia-Azrika/blob/main/CPC_5_Andi_Zhagyta_Amalia_Azrika.ipynb\" target=\"_parent\"><img src=\"https://colab.research.google.com/assets/colab-badge.svg\" alt=\"Open In Colab\"/></a>"
      ]
    },
    {
      "cell_type": "code",
      "execution_count": null,
      "metadata": {
        "colab": {
          "base_uri": "https://localhost:8080/",
          "height": 73
        },
        "id": "UqrJHDVGdRqX",
        "outputId": "1e5180db-46f7-4957-9d40-986423dd6a6b"
      },
      "outputs": [
        {
          "output_type": "display_data",
          "data": {
            "text/plain": [
              "<IPython.core.display.HTML object>"
            ],
            "text/html": [
              "\n",
              "     <input type=\"file\" id=\"files-574da8ee-2e60-43a5-abda-e61a58e2b660\" name=\"files[]\" multiple disabled\n",
              "        style=\"border:none\" />\n",
              "     <output id=\"result-574da8ee-2e60-43a5-abda-e61a58e2b660\">\n",
              "      Upload widget is only available when the cell has been executed in the\n",
              "      current browser session. Please rerun this cell to enable.\n",
              "      </output>\n",
              "      <script>// Copyright 2017 Google LLC\n",
              "//\n",
              "// Licensed under the Apache License, Version 2.0 (the \"License\");\n",
              "// you may not use this file except in compliance with the License.\n",
              "// You may obtain a copy of the License at\n",
              "//\n",
              "//      http://www.apache.org/licenses/LICENSE-2.0\n",
              "//\n",
              "// Unless required by applicable law or agreed to in writing, software\n",
              "// distributed under the License is distributed on an \"AS IS\" BASIS,\n",
              "// WITHOUT WARRANTIES OR CONDITIONS OF ANY KIND, either express or implied.\n",
              "// See the License for the specific language governing permissions and\n",
              "// limitations under the License.\n",
              "\n",
              "/**\n",
              " * @fileoverview Helpers for google.colab Python module.\n",
              " */\n",
              "(function(scope) {\n",
              "function span(text, styleAttributes = {}) {\n",
              "  const element = document.createElement('span');\n",
              "  element.textContent = text;\n",
              "  for (const key of Object.keys(styleAttributes)) {\n",
              "    element.style[key] = styleAttributes[key];\n",
              "  }\n",
              "  return element;\n",
              "}\n",
              "\n",
              "// Max number of bytes which will be uploaded at a time.\n",
              "const MAX_PAYLOAD_SIZE = 100 * 1024;\n",
              "\n",
              "function _uploadFiles(inputId, outputId) {\n",
              "  const steps = uploadFilesStep(inputId, outputId);\n",
              "  const outputElement = document.getElementById(outputId);\n",
              "  // Cache steps on the outputElement to make it available for the next call\n",
              "  // to uploadFilesContinue from Python.\n",
              "  outputElement.steps = steps;\n",
              "\n",
              "  return _uploadFilesContinue(outputId);\n",
              "}\n",
              "\n",
              "// This is roughly an async generator (not supported in the browser yet),\n",
              "// where there are multiple asynchronous steps and the Python side is going\n",
              "// to poll for completion of each step.\n",
              "// This uses a Promise to block the python side on completion of each step,\n",
              "// then passes the result of the previous step as the input to the next step.\n",
              "function _uploadFilesContinue(outputId) {\n",
              "  const outputElement = document.getElementById(outputId);\n",
              "  const steps = outputElement.steps;\n",
              "\n",
              "  const next = steps.next(outputElement.lastPromiseValue);\n",
              "  return Promise.resolve(next.value.promise).then((value) => {\n",
              "    // Cache the last promise value to make it available to the next\n",
              "    // step of the generator.\n",
              "    outputElement.lastPromiseValue = value;\n",
              "    return next.value.response;\n",
              "  });\n",
              "}\n",
              "\n",
              "/**\n",
              " * Generator function which is called between each async step of the upload\n",
              " * process.\n",
              " * @param {string} inputId Element ID of the input file picker element.\n",
              " * @param {string} outputId Element ID of the output display.\n",
              " * @return {!Iterable<!Object>} Iterable of next steps.\n",
              " */\n",
              "function* uploadFilesStep(inputId, outputId) {\n",
              "  const inputElement = document.getElementById(inputId);\n",
              "  inputElement.disabled = false;\n",
              "\n",
              "  const outputElement = document.getElementById(outputId);\n",
              "  outputElement.innerHTML = '';\n",
              "\n",
              "  const pickedPromise = new Promise((resolve) => {\n",
              "    inputElement.addEventListener('change', (e) => {\n",
              "      resolve(e.target.files);\n",
              "    });\n",
              "  });\n",
              "\n",
              "  const cancel = document.createElement('button');\n",
              "  inputElement.parentElement.appendChild(cancel);\n",
              "  cancel.textContent = 'Cancel upload';\n",
              "  const cancelPromise = new Promise((resolve) => {\n",
              "    cancel.onclick = () => {\n",
              "      resolve(null);\n",
              "    };\n",
              "  });\n",
              "\n",
              "  // Wait for the user to pick the files.\n",
              "  const files = yield {\n",
              "    promise: Promise.race([pickedPromise, cancelPromise]),\n",
              "    response: {\n",
              "      action: 'starting',\n",
              "    }\n",
              "  };\n",
              "\n",
              "  cancel.remove();\n",
              "\n",
              "  // Disable the input element since further picks are not allowed.\n",
              "  inputElement.disabled = true;\n",
              "\n",
              "  if (!files) {\n",
              "    return {\n",
              "      response: {\n",
              "        action: 'complete',\n",
              "      }\n",
              "    };\n",
              "  }\n",
              "\n",
              "  for (const file of files) {\n",
              "    const li = document.createElement('li');\n",
              "    li.append(span(file.name, {fontWeight: 'bold'}));\n",
              "    li.append(span(\n",
              "        `(${file.type || 'n/a'}) - ${file.size} bytes, ` +\n",
              "        `last modified: ${\n",
              "            file.lastModifiedDate ? file.lastModifiedDate.toLocaleDateString() :\n",
              "                                    'n/a'} - `));\n",
              "    const percent = span('0% done');\n",
              "    li.appendChild(percent);\n",
              "\n",
              "    outputElement.appendChild(li);\n",
              "\n",
              "    const fileDataPromise = new Promise((resolve) => {\n",
              "      const reader = new FileReader();\n",
              "      reader.onload = (e) => {\n",
              "        resolve(e.target.result);\n",
              "      };\n",
              "      reader.readAsArrayBuffer(file);\n",
              "    });\n",
              "    // Wait for the data to be ready.\n",
              "    let fileData = yield {\n",
              "      promise: fileDataPromise,\n",
              "      response: {\n",
              "        action: 'continue',\n",
              "      }\n",
              "    };\n",
              "\n",
              "    // Use a chunked sending to avoid message size limits. See b/62115660.\n",
              "    let position = 0;\n",
              "    do {\n",
              "      const length = Math.min(fileData.byteLength - position, MAX_PAYLOAD_SIZE);\n",
              "      const chunk = new Uint8Array(fileData, position, length);\n",
              "      position += length;\n",
              "\n",
              "      const base64 = btoa(String.fromCharCode.apply(null, chunk));\n",
              "      yield {\n",
              "        response: {\n",
              "          action: 'append',\n",
              "          file: file.name,\n",
              "          data: base64,\n",
              "        },\n",
              "      };\n",
              "\n",
              "      let percentDone = fileData.byteLength === 0 ?\n",
              "          100 :\n",
              "          Math.round((position / fileData.byteLength) * 100);\n",
              "      percent.textContent = `${percentDone}% done`;\n",
              "\n",
              "    } while (position < fileData.byteLength);\n",
              "  }\n",
              "\n",
              "  // All done.\n",
              "  yield {\n",
              "    response: {\n",
              "      action: 'complete',\n",
              "    }\n",
              "  };\n",
              "}\n",
              "\n",
              "scope.google = scope.google || {};\n",
              "scope.google.colab = scope.google.colab || {};\n",
              "scope.google.colab._files = {\n",
              "  _uploadFiles,\n",
              "  _uploadFilesContinue,\n",
              "};\n",
              "})(self);\n",
              "</script> "
            ]
          },
          "metadata": {}
        },
        {
          "output_type": "stream",
          "name": "stdout",
          "text": [
            "Saving CPC5.xlsx to CPC5.xlsx\n"
          ]
        }
      ],
      "source": [
        "from google.colab import files\n",
        "uploaded = files.upload()"
      ]
    },
    {
      "cell_type": "code",
      "source": [
        "import pandas as pd\n",
        "\n",
        "nama_file = 'CPC5.xlsx'\n",
        "df = pd.read_excel(nama_file, header=None)\n",
        "print(df.head())"
      ],
      "metadata": {
        "colab": {
          "base_uri": "https://localhost:8080/"
        },
        "id": "cishftfwdWQF",
        "outputId": "11f506f6-d599-4c6a-fdf3-ec9760cd23a6"
      },
      "execution_count": null,
      "outputs": [
        {
          "output_type": "stream",
          "name": "stdout",
          "text": [
            "          0         1         2         3         4      5\n",
            "0    powLv1    powLv2    powLv3    powLv4    powLv5  kelas\n",
            "1  0.446692  0.220117  0.144672  0.106003  0.082516      A\n",
            "2  0.442455  0.219658  0.145039  0.107494  0.085354      A\n",
            "3  0.446993  0.220535  0.144443  0.105565  0.082465      A\n",
            "4   0.45709  0.221898  0.141954  0.101666  0.077392      A\n"
          ]
        }
      ]
    },
    {
      "cell_type": "markdown",
      "source": [
        "**Skenario 10-Fold Cross Validation**"
      ],
      "metadata": {
        "id": "rO0uNq3UTYQ_"
      }
    },
    {
      "cell_type": "code",
      "source": [
        "from sklearn.model_selection import cross_val_score, KFold\n",
        "from sklearn.svm import SVC\n",
        "import numpy as np\n",
        "\n",
        "nama_file = 'CPC5.xlsx'\n",
        "data = pd.read_excel(nama_file)\n",
        "\n",
        "# Misalkan kolom terakhir adalah kolom target (y) dan kolom lainnya adalah fitur (X)\n",
        "X = data.iloc[:, :-1]  # Ambil semua kolom kecuali kolom terakhir\n",
        "y = data.iloc[:, -1]   # Ambil kolom terakhir sebagai target\n",
        "\n",
        "model = SVC(kernel='linear')\n",
        "\n",
        "k_fold = KFold(n_splits=10, shuffle=True, random_state=42)\n",
        "\n",
        "scores = cross_val_score(model, X, y, cv=k_fold)\n",
        "\n",
        "print(\"Accuracy of each fold:\", scores)\n",
        "print(\"Average accuracy:\", np.mean(scores))"
      ],
      "metadata": {
        "colab": {
          "base_uri": "https://localhost:8080/"
        },
        "id": "uhq414jedavj",
        "outputId": "939fe66d-8848-41c7-90f0-a2143227c059"
      },
      "execution_count": null,
      "outputs": [
        {
          "output_type": "stream",
          "name": "stdout",
          "text": [
            "Accuracy of each fold: [0.3  0.38 0.4  0.26 0.44 0.26 0.4  0.36 0.3  0.36]\n",
            "Average accuracy: 0.346\n"
          ]
        }
      ]
    },
    {
      "cell_type": "markdown",
      "source": [
        "**Skenario 10-Fold Cross Validation dengan Classifier SVM**"
      ],
      "metadata": {
        "id": "bSDpk1SVThOe"
      }
    },
    {
      "cell_type": "code",
      "source": [
        "from sklearn.model_selection import cross_val_predict, KFold\n",
        "from sklearn.metrics import confusion_matrix, classification_report\n",
        "from sklearn.svm import SVC\n",
        "import numpy as np\n",
        "import pandas as pd\n",
        "\n",
        "nama_file = 'CPC5.xlsx'\n",
        "data = pd.read_excel(nama_file)\n",
        "\n",
        "X = data.iloc[:, :-1]\n",
        "y = data.iloc[:, -1]\n",
        "\n",
        "model = SVC(kernel='linear')\n",
        "\n",
        "k_fold = KFold(n_splits=10, shuffle=True, random_state=42)\n",
        "\n",
        "# Prediksi dengan cross-validation\n",
        "y_pred = cross_val_predict(model, X, y, cv=k_fold)\n",
        "\n",
        "# Confusion matrix\n",
        "conf_matrix = confusion_matrix(y, y_pred)\n",
        "\n",
        "# Menghitung parameter performansi\n",
        "TP = conf_matrix[1, 1]  # True Positives\n",
        "TN = conf_matrix[0, 0]  # True Negatives\n",
        "FP = conf_matrix[0, 1]  # False Positives\n",
        "FN = conf_matrix[1, 0]  # False Negatives\n",
        "\n",
        "# Handle division by zero\n",
        "precision = TP / (TP + FP) if (TP + FP) != 0 else 0\n",
        "recall = TP / (TP + FN) if (TP + FN) != 0 else 0\n",
        "\n",
        "# Handle division by zero for F1-Score\n",
        "if precision + recall == 0:\n",
        "    f1_score = 0\n",
        "else:\n",
        "    f1_score = 2 * (precision * recall) / (precision + recall)\n",
        "\n",
        "accuracy = (TP + TN) / (TP + TN + FP + FN)\n",
        "\n",
        "print(\"------ 10-Fold CV using SVM Classifier ------\")\n",
        "print(\"Sensitivity:\", recall)\n",
        "print(\"Specificity:\", TN / (TN + FP))\n",
        "print(\"Accuracy:\", accuracy)\n",
        "print(\"F1-Score:\", f1_score)"
      ],
      "metadata": {
        "colab": {
          "base_uri": "https://localhost:8080/"
        },
        "id": "qHN7iOXGddWq",
        "outputId": "8c94c897-f767-4c28-90f1-d33dc55ab099"
      },
      "execution_count": null,
      "outputs": [
        {
          "output_type": "stream",
          "name": "stdout",
          "text": [
            "------ 10-Fold CV using SVM Classifier ------\n",
            "Sensitivity: 0.425\n",
            "Specificity: 0.44\n",
            "Accuracy: 0.4325\n",
            "F1-Score: 0.42821158690176325\n"
          ]
        }
      ]
    },
    {
      "cell_type": "markdown",
      "source": [
        "**Skenario 10-Fold Cross Validation dengan Classifier K-NN**"
      ],
      "metadata": {
        "id": "-JokpWqPTmzu"
      }
    },
    {
      "cell_type": "code",
      "source": [
        "from sklearn.model_selection import cross_val_predict, KFold\n",
        "from sklearn.metrics import confusion_matrix, classification_report\n",
        "from sklearn.neighbors import KNeighborsClassifier\n",
        "import numpy as np\n",
        "import pandas as pd\n",
        "\n",
        "nama_file = 'CPC5.xlsx'\n",
        "data = pd.read_excel(nama_file)\n",
        "\n",
        "X = data.iloc[:, :-1]\n",
        "y = data.iloc[:, -1]\n",
        "\n",
        "model = KNeighborsClassifier(n_neighbors=5)\n",
        "\n",
        "k_fold = KFold(n_splits=10, shuffle=True, random_state=42)\n",
        "\n",
        "# Prediksi dengan cross-validation\n",
        "y_pred = cross_val_predict(model, X, y, cv=k_fold)\n",
        "\n",
        "# Confusion matrix\n",
        "conf_matrix = confusion_matrix(y, y_pred)\n",
        "\n",
        "# Menghitung parameter performansi\n",
        "TP = conf_matrix[1, 1]  # True Positives\n",
        "TN = conf_matrix[0, 0]  # True Negatives\n",
        "FP = conf_matrix[0, 1]  # False Positives\n",
        "FN = conf_matrix[1, 0]  # False Negatives\n",
        "\n",
        "sensitivity = TP / (TP + FN)\n",
        "specificity = TN / (TN + FP)\n",
        "accuracy = (TP + TN) / (TP + TN + FP + FN)\n",
        "precision = TP / (TP + FP)\n",
        "recall = sensitivity\n",
        "f1_score = 2 * (precision * recall) / (precision + recall)\n",
        "\n",
        "print(\"------ 10-Fold CV using K-NN Classifier ------\")\n",
        "print(\"Sensitivity:\", sensitivity)\n",
        "print(\"Specificity:\", specificity)\n",
        "print(\"Accuracy:\", accuracy)\n",
        "print(\"F1-Score:\", f1_score)"
      ],
      "metadata": {
        "colab": {
          "base_uri": "https://localhost:8080/"
        },
        "id": "kPKWs-oSdf9e",
        "outputId": "bb3a7be6-81c2-4300-a12b-9651bbd82808"
      },
      "execution_count": null,
      "outputs": [
        {
          "output_type": "stream",
          "name": "stdout",
          "text": [
            "------ 10-Fold CV using K-NN Classifier ------\n",
            "Sensitivity: 0.8900523560209425\n",
            "Specificity: 0.8315217391304348\n",
            "Accuracy: 0.8613333333333333\n",
            "F1-Score: 0.8673469387755102\n"
          ]
        }
      ]
    },
    {
      "cell_type": "markdown",
      "source": [
        "**Skenario 75% Training dan 25% Testing dengan Classifier SVM**"
      ],
      "metadata": {
        "id": "ftk4i_ycTst7"
      }
    },
    {
      "cell_type": "code",
      "source": [
        "from sklearn.model_selection import train_test_split\n",
        "from sklearn.svm import SVC\n",
        "from sklearn.metrics import confusion_matrix\n",
        "import pandas as pd\n",
        "\n",
        "nama_file = 'CPC5.xlsx'\n",
        "data = pd.read_excel(nama_file)\n",
        "\n",
        "X = data.iloc[:, :-1]\n",
        "y = data.iloc[:, -1]\n",
        "\n",
        "# Bagi data menjadi 75% Training Data dan 25% Testing Data\n",
        "X_train, X_test, y_train, y_test = train_test_split(X, y, test_size=0.25, random_state=42)\n",
        "\n",
        "# Inisialisasi model SVM\n",
        "svm_model = SVC(kernel='linear')\n",
        "\n",
        "# Latih model dengan training data\n",
        "svm_model.fit(X_train, y_train)\n",
        "\n",
        "# Prediksi menggunakan data uji\n",
        "y_pred_train = svm_model.predict(X_train)\n",
        "y_pred_test = svm_model.predict(X_test)\n",
        "\n",
        "# Evaluasi metrik untuk SVM pada data pelatihan\n",
        "conf_matrix_train = confusion_matrix(y_train, y_pred_train)\n",
        "TN_train = conf_matrix_train[0, 0]\n",
        "FP_train = conf_matrix_train[0, 1]\n",
        "FN_train = conf_matrix_train[1, 0]\n",
        "TP_train = conf_matrix_train[1, 1]\n",
        "sensitivity_train = TP_train / (TP_train + FN_train)\n",
        "specificity_train = TN_train / (TN_train + FP_train)\n",
        "accuracy_train = (TP_train + TN_train) / (TP_train + TN_train + FP_train + FN_train)\n",
        "precision_train = TP_train / (TP_train + FP_train)\n",
        "recall_train = sensitivity_train\n",
        "f1_score_train = 2 * (precision_train * recall_train) / (precision_train + recall_train)\n",
        "\n",
        "# Evaluasi metrik untuk SVM pada data pengujian\n",
        "conf_matrix_test = confusion_matrix(y_test, y_pred_test)\n",
        "TN_test = conf_matrix_test[0, 0]\n",
        "FP_test = conf_matrix_test[0, 1]\n",
        "FN_test = conf_matrix_test[1, 0]\n",
        "TP_test = conf_matrix_test[1, 1]\n",
        "sensitivity_test = TP_test / (TP_test + FN_test)\n",
        "specificity_test = TN_test / (TN_test + FP_test)\n",
        "accuracy_test = (TP_test + TN_test) / (TP_test + TN_test + FP_test + FN_test)\n",
        "precision_test = TP_test / (TP_test + FP_test)\n",
        "recall_test = sensitivity_test\n",
        "f1_score_test = 2 * (precision_test * recall_test) / (precision_test + recall_test)\n",
        "\n",
        "print(\"------ 75% Training & 25% Testing using SVM Classifier ------\")\n",
        "print(\"[Training Set]\")\n",
        "print(\"Sensitivity:\", sensitivity_train)\n",
        "print(\"Specificity:\", specificity_train)\n",
        "print(\"Accuracy:\", accuracy_train)\n",
        "print(\"F1-Score:\", f1_score_train)\n",
        "\n",
        "print(\"\\n[Testing Set]\")\n",
        "print(\"Sensitivity:\", sensitivity_test)\n",
        "print(\"Specificity:\", specificity_test)\n",
        "print(\"Accuracy:\", accuracy_test)\n",
        "print(\"F1-Score:\", f1_score_test)"
      ],
      "metadata": {
        "id": "zw4IhawddiZj",
        "outputId": "e3fac6a4-c812-459e-dd74-1ff1e03195c9",
        "colab": {
          "base_uri": "https://localhost:8080/"
        }
      },
      "execution_count": null,
      "outputs": [
        {
          "output_type": "stream",
          "name": "stdout",
          "text": [
            "------ 75% Training & 25% Testing using SVM Classifier ------\n",
            "[Training Set]\n",
            "Sensitivity: 1.0\n",
            "Specificity: 0.0\n",
            "Accuracy: 0.5066225165562914\n",
            "F1-Score: 0.6725274725274726\n",
            "\n",
            "[Testing Set]\n",
            "Sensitivity: 1.0\n",
            "Specificity: 0.0\n",
            "Accuracy: 0.47959183673469385\n",
            "F1-Score: 0.6482758620689655\n"
          ]
        }
      ]
    },
    {
      "cell_type": "markdown",
      "source": [
        "**Skenario 75% Training dan 25% Testing dengan Classifier K-NN**"
      ],
      "metadata": {
        "id": "BUeMkCJkTycZ"
      }
    },
    {
      "cell_type": "code",
      "source": [
        "from sklearn.model_selection import train_test_split\n",
        "from sklearn.neighbors import KNeighborsClassifier\n",
        "from sklearn.metrics import precision_recall_fscore_support, accuracy_score\n",
        "import pandas as pd\n",
        "\n",
        "nama_file = 'CPC5.xlsx'\n",
        "data = pd.read_excel(nama_file)\n",
        "\n",
        "X = data.iloc[:, :-1]\n",
        "y = data.iloc[:, -1]\n",
        "\n",
        "X_train, X_test, y_train, y_test = train_test_split(X, y, test_size=0.25, random_state=42)\n",
        "\n",
        "# Inisialisasi model K-NN dengan jumlah tetangga (n_neighbors) yang diinginkan\n",
        "knn_model = KNeighborsClassifier(n_neighbors=5)\n",
        "\n",
        "# Latih model dengan training data\n",
        "knn_model.fit(X_train, y_train)\n",
        "\n",
        "# Prediksi menggunakan data uji\n",
        "y_pred_train = knn_model.predict(X_train)\n",
        "y_pred_test = knn_model.predict(X_test)\n",
        "\n",
        "# Evaluasi metrik untuk K-NN pada data pelatihan\n",
        "precision_train, recall_train, f1_score_train, _ = precision_recall_fscore_support(y_train, y_pred_train, average='weighted')\n",
        "\n",
        "# Evaluasi metrik untuk K-NN pada data pengujian\n",
        "precision_test, recall_test, f1_score_test, _ = precision_recall_fscore_support(y_test, y_pred_test, average='weighted')\n",
        "\n",
        "accuracy_train = accuracy_score(y_train, y_pred_train)\n",
        "accuracy_test = accuracy_score(y_test, y_pred_test)\n",
        "\n",
        "print(\"------ 75% Training & 25% Testing using K-NN Classifier ------\")\n",
        "print(\"[Training Set]\")\n",
        "print(\"Sensitivity:\", recall_train)\n",
        "print(\"Specificity:\", 1)\n",
        "print(\"Accuracy:\", accuracy_train)\n",
        "print(\"F1-Score:\", f1_score_train)\n",
        "\n",
        "print(\"\\n[Testing Set]\")\n",
        "print(\"Sensitivity:\", recall_test)\n",
        "print(\"Specificity:\", 1)\n",
        "print(\"Accuracy:\", accuracy_test)\n",
        "print(\"F1-Score:\", f1_score_test)"
      ],
      "metadata": {
        "id": "QX9kWRzudknw",
        "outputId": "26af203e-7f0f-402f-9374-eaa26b70cd72",
        "colab": {
          "base_uri": "https://localhost:8080/"
        }
      },
      "execution_count": null,
      "outputs": [
        {
          "output_type": "stream",
          "name": "stdout",
          "text": [
            "------ 75% Training & 25% Testing using K-NN Classifier ------\n",
            "[Training Set]\n",
            "Sensitivity: 0.816\n",
            "Specificity: 1\n",
            "Accuracy: 0.816\n",
            "F1-Score: 0.8113821926006688\n",
            "\n",
            "[Testing Set]\n",
            "Sensitivity: 0.624\n",
            "Specificity: 1\n",
            "Accuracy: 0.624\n",
            "F1-Score: 0.6145227405816905\n"
          ]
        }
      ]
    },
    {
      "cell_type": "markdown",
      "source": [
        "**Skenario 50% Training, 25% Validation, dan 25% Testing dengan Classifier SVM**"
      ],
      "metadata": {
        "id": "AvvfWxBdT3HZ"
      }
    },
    {
      "cell_type": "code",
      "source": [
        "from sklearn.model_selection import train_test_split\n",
        "from sklearn.svm import SVC\n",
        "from sklearn.metrics import precision_recall_fscore_support, confusion_matrix\n",
        "import pandas as pd\n",
        "\n",
        "nama_file = 'CPC5.xlsx'\n",
        "data = pd.read_excel(nama_file)\n",
        "\n",
        "X = data.iloc[:, :-1]\n",
        "y = data.iloc[:, -1]\n",
        "\n",
        "# Memisahkan data menjadi data pelatihan (50%) dan sisa data (50%)\n",
        "X_train, X_remaining, y_train, y_remaining = train_test_split(X, y, test_size=0.5, random_state=42)\n",
        "\n",
        "# Memisahkan sisa data menjadi data validasi (25%) dan data pengujian (25%)\n",
        "X_validation, X_test, y_validation, y_test = train_test_split(X_remaining, y_remaining, test_size=0.5, random_state=42)\n",
        "\n",
        "# Inisialisasi model SVM\n",
        "model = SVC(kernel='linear')\n",
        "\n",
        "model.fit(X_train, y_train)\n",
        "\n",
        "#Prediksi data\n",
        "y_pred_train = model.predict(X_train)\n",
        "y_pred_validation = model.predict(X_validation)\n",
        "y_pred_test = model.predict(X_test)\n",
        "\n",
        "# Evaluasi metrik untuk data pelatihan\n",
        "precision_train, recall_train, f1_score_train, _ = precision_recall_fscore_support(y_train, y_pred_train, average='weighted', zero_division=1)\n",
        "conf_matrix_train = confusion_matrix(y_train, y_pred_train)\n",
        "TN_train, FP_train = conf_matrix_train[0, 0], conf_matrix_train[0, 1]\n",
        "FN_train, TP_train = conf_matrix_train[1, 0], conf_matrix_train[1, 1]\n",
        "specificity_train = TN_train / (TN_train + FP_train) if (TN_train + FP_train) != 0 else 0\n",
        "\n",
        "# Evaluasi metrik untuk data validasi\n",
        "precision_validation, recall_validation, f1_score_validation, _ = precision_recall_fscore_support(y_validation, y_pred_validation, average='weighted', zero_division=1)\n",
        "conf_matrix_validation = confusion_matrix(y_validation, y_pred_validation)\n",
        "TN_validation, FP_validation = conf_matrix_validation[0, 0], conf_matrix_validation[0, 1]\n",
        "FN_validation, TP_validation = conf_matrix_validation[1, 0], conf_matrix_validation[1, 1]\n",
        "specificity_validation = TN_validation / (TN_validation + FP_validation) if (TN_validation + FP_validation) != 0 else 0\n",
        "\n",
        "# Evaluasi metrik untuk data pengujian\n",
        "precision_test, recall_test, f1_score_test, _ = precision_recall_fscore_support(y_test, y_pred_test, average='weighted', zero_division=1)\n",
        "conf_matrix_test = confusion_matrix(y_test, y_pred_test)\n",
        "TN_test, FP_test = conf_matrix_test[0, 0], conf_matrix_test[0, 1]\n",
        "FN_test, TP_test = conf_matrix_test[1, 0], conf_matrix_test[1, 1]\n",
        "specificity_test = TN_test / (TN_test + FP_test) if (TN_test + FP_test) != 0 else 0\n",
        "\n",
        "print(\"------ 50% Training, 25% Validation, & 25% Testing using SVM Classifier ------\")\n",
        "print(\"[Training Set]\")\n",
        "print(\"Sensitivity:\", recall_train)\n",
        "print(\"Specificity:\", specificity_train)\n",
        "print(\"Accuracy:\", model.score(X_train, y_train))\n",
        "print(\"F1-Score:\", f1_score_train)\n",
        "\n",
        "print(\"\\n[Validation Set]\")\n",
        "print(\"Sensitivity:\", recall_validation)\n",
        "print(\"Specificity:\", specificity_validation)\n",
        "print(\"Accuracy:\", model.score(X_validation, y_validation))\n",
        "print(\"F1-Score:\", f1_score_validation)\n",
        "\n",
        "print(\"\\n[Testing Set]\")\n",
        "print(\"Sensitivity:\", recall_test)\n",
        "print(\"Specificity:\", specificity_test)\n",
        "print(\"Accuracy:\", model.score(X_test, y_test))\n",
        "print(\"F1-Score:\", f1_score_test)"
      ],
      "metadata": {
        "id": "6QiXrV-udnHc",
        "colab": {
          "base_uri": "https://localhost:8080/"
        },
        "outputId": "7eabc440-3c48-4dd1-a552-68726a6accb5"
      },
      "execution_count": null,
      "outputs": [
        {
          "output_type": "stream",
          "name": "stdout",
          "text": [
            "------ 50% Training, 25% Validation, & 25% Testing using SVM Classifier ------\n",
            "[Training Set]\n",
            "Sensitivity: 0.428\n",
            "Specificity: 0.0\n",
            "Accuracy: 0.428\n",
            "F1-Score: 0.2565602240896358\n",
            "\n",
            "[Validation Set]\n",
            "Sensitivity: 0.36\n",
            "Specificity: 0.0\n",
            "Accuracy: 0.36\n",
            "F1-Score: 0.19058823529411764\n",
            "\n",
            "[Testing Set]\n",
            "Sensitivity: 0.384\n",
            "Specificity: 0.0\n",
            "Accuracy: 0.384\n",
            "F1-Score: 0.21308670520231215\n"
          ]
        }
      ]
    },
    {
      "cell_type": "markdown",
      "source": [
        "**Skenario 50% Training, 25% Validation, dan 25% Testing dengan Classifier K-NN**"
      ],
      "metadata": {
        "id": "ojkAMQXmT7w6"
      }
    },
    {
      "cell_type": "code",
      "source": [
        "from sklearn.model_selection import train_test_split\n",
        "from sklearn.neighbors import KNeighborsClassifier\n",
        "from sklearn.metrics import confusion_matrix, classification_report\n",
        "import pandas as pd\n",
        "\n",
        "nama_file = 'CPC5.xlsx'\n",
        "data = pd.read_excel(nama_file)\n",
        "\n",
        "X = data.iloc[:, :-1]\n",
        "y = data.iloc[:, -1]\n",
        "\n",
        "X_train, X_remaining, y_train, y_remaining = train_test_split(X, y, test_size=0.5, random_state=42)\n",
        "X_validation, X_test, y_validation, y_test = train_test_split(X_remaining, y_remaining, test_size=0.5, random_state=42)\n",
        "\n",
        "# Inisialisasi model K-NN dengan jumlah tetangga 5\n",
        "model = KNeighborsClassifier(n_neighbors=5)\n",
        "\n",
        "# Melatih model dengan data pelatihan\n",
        "model.fit(X_train, y_train)\n",
        "\n",
        "# Prediksi pada data pelatihan, validasi, dan pengujian\n",
        "y_pred_train = model.predict(X_train)\n",
        "y_pred_validation = model.predict(X_validation)\n",
        "y_pred_test = model.predict(X_test)\n",
        "\n",
        "# Evaluasi pada data pelatihan\n",
        "conf_matrix_train = confusion_matrix(y_train, y_pred_train)\n",
        "TP_train = conf_matrix_train[1, 1]\n",
        "TN_train = conf_matrix_train[0, 0]\n",
        "FP_train = conf_matrix_train[0, 1]\n",
        "FN_train = conf_matrix_train[1, 0]\n",
        "\n",
        "sensitivity_train = TP_train / (TP_train + FN_train)\n",
        "specificity_train = TN_train / (TN_train + FP_train)\n",
        "accuracy_train = (TP_train + TN_train) / (TP_train + TN_train + FP_train + FN_train)\n",
        "precision_train = TP_train / (TP_train + FP_train)\n",
        "recall_train = sensitivity_train\n",
        "f1_score_train = 2 * (precision_train * recall_train) / (precision_train + recall_train)\n",
        "\n",
        "# Evaluasi pada data validasi\n",
        "conf_matrix_validation = confusion_matrix(y_validation, y_pred_validation)\n",
        "TP_validation = conf_matrix_validation[1, 1]\n",
        "TN_validation = conf_matrix_validation[0, 0]\n",
        "FP_validation = conf_matrix_validation[0, 1]\n",
        "FN_validation = conf_matrix_validation[1, 0]\n",
        "\n",
        "sensitivity_validation = TP_validation / (TP_validation + FN_validation)\n",
        "specificity_validation = TN_validation / (TN_validation + FP_validation)\n",
        "accuracy_validation = (TP_validation + TN_validation) / (TP_validation + TN_validation + FP_validation + FN_validation)\n",
        "precision_validation = TP_validation / (TP_validation + FP_validation)\n",
        "recall_validation = sensitivity_validation\n",
        "f1_score_validation = 2 * (precision_validation * recall_validation) / (precision_validation + recall_validation)\n",
        "\n",
        "# Evaluasi pada data pengujian\n",
        "conf_matrix_test = confusion_matrix(y_test, y_pred_test)\n",
        "TP_test = conf_matrix_test[1, 1]\n",
        "TN_test = conf_matrix_test[0, 0]\n",
        "FP_test = conf_matrix_test[0, 1]\n",
        "FN_test = conf_matrix_test[1, 0]\n",
        "\n",
        "sensitivity_test = TP_test / (TP_test + FN_test)\n",
        "specificity_test = TN_test / (TN_test + FP_test)\n",
        "accuracy_test = (TP_test + TN_test) / (TP_test + TN_test + FP_test + FN_test)\n",
        "precision_test = TP_test / (TP_test + FP_test)\n",
        "recall_test = sensitivity_test\n",
        "f1_score_test = 2 * (precision_test * recall_test) / (precision_test + recall_test)\n",
        "\n",
        "print(\"------ 50% Training, 25% Validation, & 25% Testing using K-NN Classifier ------\")\n",
        "print(\"[Training Set]\")\n",
        "print(\"Sensitivity:\", sensitivity_train)\n",
        "print(\"Specificity:\", specificity_train)\n",
        "print(\"Accuracy:\", accuracy_train)\n",
        "print(\"F1-Score:\", f1_score_train)\n",
        "\n",
        "print(\"\\n[Validation Set]\")\n",
        "print(\"Sensitivity:\", sensitivity_validation)\n",
        "print(\"Specificity:\", specificity_validation)\n",
        "print(\"Accuracy:\", accuracy_validation)\n",
        "print(\"F1-Score:\", f1_score_validation)\n",
        "\n",
        "print(\"\\n[Testing Set]\")\n",
        "print(\"Sensitivity:\", sensitivity_test)\n",
        "print(\"Specificity:\", specificity_test)\n",
        "print(\"Accuracy:\", accuracy_test)\n",
        "print(\"F1-Score:\", f1_score_test)"
      ],
      "metadata": {
        "colab": {
          "base_uri": "https://localhost:8080/"
        },
        "id": "KPhihofTT_-o",
        "outputId": "906ab5ed-5101-4858-f8cb-41ae5a4e8936"
      },
      "execution_count": null,
      "outputs": [
        {
          "output_type": "stream",
          "name": "stdout",
          "text": [
            "------ 50% Training, 25% Validation, & 25% Testing using K-NN Classifier ------\n",
            "[Training Set]\n",
            "Sensitivity: 0.9326923076923077\n",
            "Specificity: 0.8705882352941177\n",
            "Accuracy: 0.9047619047619048\n",
            "F1-Score: 0.9150943396226415\n",
            "\n",
            "[Validation Set]\n",
            "Sensitivity: 0.8809523809523809\n",
            "Specificity: 0.9107142857142857\n",
            "Accuracy: 0.8979591836734694\n",
            "F1-Score: 0.8809523809523809\n",
            "\n",
            "[Testing Set]\n",
            "Sensitivity: 0.926829268292683\n",
            "Specificity: 0.7872340425531915\n",
            "Accuracy: 0.8522727272727273\n",
            "F1-Score: 0.8539325842696629\n"
          ]
        }
      ]
    }
  ]
}