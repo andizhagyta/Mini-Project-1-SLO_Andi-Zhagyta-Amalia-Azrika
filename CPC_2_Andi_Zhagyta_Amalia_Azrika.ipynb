{
  "nbformat": 4,
  "nbformat_minor": 0,
  "metadata": {
    "colab": {
      "provenance": [],
      "authorship_tag": "ABX9TyMVdTvoBzij6DLpf8+ylz0K",
      "include_colab_link": true
    },
    "kernelspec": {
      "name": "python3",
      "display_name": "Python 3"
    },
    "language_info": {
      "name": "python"
    }
  },
  "cells": [
    {
      "cell_type": "markdown",
      "metadata": {
        "id": "view-in-github",
        "colab_type": "text"
      },
      "source": [
        "<a href=\"https://colab.research.google.com/github/andizhagyta/Mini-Project-1-SLO_Andi-Zhagyta-Amalia-Azrika/blob/main/CPC_2_Andi_Zhagyta_Amalia_Azrika.ipynb\" target=\"_parent\"><img src=\"https://colab.research.google.com/assets/colab-badge.svg\" alt=\"Open In Colab\"/></a>"
      ]
    },
    {
      "cell_type": "code",
      "execution_count": null,
      "metadata": {
        "colab": {
          "base_uri": "https://localhost:8080/",
          "height": 73
        },
        "id": "GiL21UFZbRXB",
        "outputId": "64c565ce-dade-48fc-92df-493dd73f0c72"
      },
      "outputs": [
        {
          "output_type": "display_data",
          "data": {
            "text/plain": [
              "<IPython.core.display.HTML object>"
            ],
            "text/html": [
              "\n",
              "     <input type=\"file\" id=\"files-b2faf6b0-8aa4-4754-860c-79b6d5d68e4c\" name=\"files[]\" multiple disabled\n",
              "        style=\"border:none\" />\n",
              "     <output id=\"result-b2faf6b0-8aa4-4754-860c-79b6d5d68e4c\">\n",
              "      Upload widget is only available when the cell has been executed in the\n",
              "      current browser session. Please rerun this cell to enable.\n",
              "      </output>\n",
              "      <script>// Copyright 2017 Google LLC\n",
              "//\n",
              "// Licensed under the Apache License, Version 2.0 (the \"License\");\n",
              "// you may not use this file except in compliance with the License.\n",
              "// You may obtain a copy of the License at\n",
              "//\n",
              "//      http://www.apache.org/licenses/LICENSE-2.0\n",
              "//\n",
              "// Unless required by applicable law or agreed to in writing, software\n",
              "// distributed under the License is distributed on an \"AS IS\" BASIS,\n",
              "// WITHOUT WARRANTIES OR CONDITIONS OF ANY KIND, either express or implied.\n",
              "// See the License for the specific language governing permissions and\n",
              "// limitations under the License.\n",
              "\n",
              "/**\n",
              " * @fileoverview Helpers for google.colab Python module.\n",
              " */\n",
              "(function(scope) {\n",
              "function span(text, styleAttributes = {}) {\n",
              "  const element = document.createElement('span');\n",
              "  element.textContent = text;\n",
              "  for (const key of Object.keys(styleAttributes)) {\n",
              "    element.style[key] = styleAttributes[key];\n",
              "  }\n",
              "  return element;\n",
              "}\n",
              "\n",
              "// Max number of bytes which will be uploaded at a time.\n",
              "const MAX_PAYLOAD_SIZE = 100 * 1024;\n",
              "\n",
              "function _uploadFiles(inputId, outputId) {\n",
              "  const steps = uploadFilesStep(inputId, outputId);\n",
              "  const outputElement = document.getElementById(outputId);\n",
              "  // Cache steps on the outputElement to make it available for the next call\n",
              "  // to uploadFilesContinue from Python.\n",
              "  outputElement.steps = steps;\n",
              "\n",
              "  return _uploadFilesContinue(outputId);\n",
              "}\n",
              "\n",
              "// This is roughly an async generator (not supported in the browser yet),\n",
              "// where there are multiple asynchronous steps and the Python side is going\n",
              "// to poll for completion of each step.\n",
              "// This uses a Promise to block the python side on completion of each step,\n",
              "// then passes the result of the previous step as the input to the next step.\n",
              "function _uploadFilesContinue(outputId) {\n",
              "  const outputElement = document.getElementById(outputId);\n",
              "  const steps = outputElement.steps;\n",
              "\n",
              "  const next = steps.next(outputElement.lastPromiseValue);\n",
              "  return Promise.resolve(next.value.promise).then((value) => {\n",
              "    // Cache the last promise value to make it available to the next\n",
              "    // step of the generator.\n",
              "    outputElement.lastPromiseValue = value;\n",
              "    return next.value.response;\n",
              "  });\n",
              "}\n",
              "\n",
              "/**\n",
              " * Generator function which is called between each async step of the upload\n",
              " * process.\n",
              " * @param {string} inputId Element ID of the input file picker element.\n",
              " * @param {string} outputId Element ID of the output display.\n",
              " * @return {!Iterable<!Object>} Iterable of next steps.\n",
              " */\n",
              "function* uploadFilesStep(inputId, outputId) {\n",
              "  const inputElement = document.getElementById(inputId);\n",
              "  inputElement.disabled = false;\n",
              "\n",
              "  const outputElement = document.getElementById(outputId);\n",
              "  outputElement.innerHTML = '';\n",
              "\n",
              "  const pickedPromise = new Promise((resolve) => {\n",
              "    inputElement.addEventListener('change', (e) => {\n",
              "      resolve(e.target.files);\n",
              "    });\n",
              "  });\n",
              "\n",
              "  const cancel = document.createElement('button');\n",
              "  inputElement.parentElement.appendChild(cancel);\n",
              "  cancel.textContent = 'Cancel upload';\n",
              "  const cancelPromise = new Promise((resolve) => {\n",
              "    cancel.onclick = () => {\n",
              "      resolve(null);\n",
              "    };\n",
              "  });\n",
              "\n",
              "  // Wait for the user to pick the files.\n",
              "  const files = yield {\n",
              "    promise: Promise.race([pickedPromise, cancelPromise]),\n",
              "    response: {\n",
              "      action: 'starting',\n",
              "    }\n",
              "  };\n",
              "\n",
              "  cancel.remove();\n",
              "\n",
              "  // Disable the input element since further picks are not allowed.\n",
              "  inputElement.disabled = true;\n",
              "\n",
              "  if (!files) {\n",
              "    return {\n",
              "      response: {\n",
              "        action: 'complete',\n",
              "      }\n",
              "    };\n",
              "  }\n",
              "\n",
              "  for (const file of files) {\n",
              "    const li = document.createElement('li');\n",
              "    li.append(span(file.name, {fontWeight: 'bold'}));\n",
              "    li.append(span(\n",
              "        `(${file.type || 'n/a'}) - ${file.size} bytes, ` +\n",
              "        `last modified: ${\n",
              "            file.lastModifiedDate ? file.lastModifiedDate.toLocaleDateString() :\n",
              "                                    'n/a'} - `));\n",
              "    const percent = span('0% done');\n",
              "    li.appendChild(percent);\n",
              "\n",
              "    outputElement.appendChild(li);\n",
              "\n",
              "    const fileDataPromise = new Promise((resolve) => {\n",
              "      const reader = new FileReader();\n",
              "      reader.onload = (e) => {\n",
              "        resolve(e.target.result);\n",
              "      };\n",
              "      reader.readAsArrayBuffer(file);\n",
              "    });\n",
              "    // Wait for the data to be ready.\n",
              "    let fileData = yield {\n",
              "      promise: fileDataPromise,\n",
              "      response: {\n",
              "        action: 'continue',\n",
              "      }\n",
              "    };\n",
              "\n",
              "    // Use a chunked sending to avoid message size limits. See b/62115660.\n",
              "    let position = 0;\n",
              "    do {\n",
              "      const length = Math.min(fileData.byteLength - position, MAX_PAYLOAD_SIZE);\n",
              "      const chunk = new Uint8Array(fileData, position, length);\n",
              "      position += length;\n",
              "\n",
              "      const base64 = btoa(String.fromCharCode.apply(null, chunk));\n",
              "      yield {\n",
              "        response: {\n",
              "          action: 'append',\n",
              "          file: file.name,\n",
              "          data: base64,\n",
              "        },\n",
              "      };\n",
              "\n",
              "      let percentDone = fileData.byteLength === 0 ?\n",
              "          100 :\n",
              "          Math.round((position / fileData.byteLength) * 100);\n",
              "      percent.textContent = `${percentDone}% done`;\n",
              "\n",
              "    } while (position < fileData.byteLength);\n",
              "  }\n",
              "\n",
              "  // All done.\n",
              "  yield {\n",
              "    response: {\n",
              "      action: 'complete',\n",
              "    }\n",
              "  };\n",
              "}\n",
              "\n",
              "scope.google = scope.google || {};\n",
              "scope.google.colab = scope.google.colab || {};\n",
              "scope.google.colab._files = {\n",
              "  _uploadFiles,\n",
              "  _uploadFilesContinue,\n",
              "};\n",
              "})(self);\n",
              "</script> "
            ]
          },
          "metadata": {}
        },
        {
          "output_type": "stream",
          "name": "stdout",
          "text": [
            "Saving CPC2.xlsx to CPC2.xlsx\n"
          ]
        }
      ],
      "source": [
        "from google.colab import files\n",
        "uploaded = files.upload()"
      ]
    },
    {
      "cell_type": "code",
      "source": [
        "import pandas as pd\n",
        "\n",
        "nama_file = 'CPC2.xlsx'\n",
        "df = pd.read_excel(nama_file, header=None)\n",
        "print(df.head())"
      ],
      "metadata": {
        "colab": {
          "base_uri": "https://localhost:8080/"
        },
        "id": "FMfdj9eqbTLx",
        "outputId": "085919c9-91fd-4a1b-9d70-ffddd9822115"
      },
      "execution_count": null,
      "outputs": [
        {
          "output_type": "stream",
          "name": "stdout",
          "text": [
            "          0         1         2         3         4      5\n",
            "0    powLv1    powLv2    powLv3    powLv4    powLv5  kelas\n",
            "1  0.448457   0.22086  0.143938  0.104903  0.081841      B\n",
            "2  0.448288  0.221315  0.144335  0.104964  0.081099      B\n",
            "3  0.448916  0.221049  0.143741  0.105198  0.081096      B\n",
            "4    0.4496  0.221141  0.144107   0.10493  0.080222      B\n"
          ]
        }
      ]
    },
    {
      "cell_type": "markdown",
      "source": [
        "**Skenario 10-Fold Cross Validation**"
      ],
      "metadata": {
        "id": "V5dDAxi2I0Dx"
      }
    },
    {
      "cell_type": "code",
      "source": [
        "from sklearn.model_selection import cross_val_score, KFold\n",
        "from sklearn.svm import SVC\n",
        "import numpy as np\n",
        "\n",
        "nama_file = 'CPC2.xlsx'\n",
        "data = pd.read_excel(nama_file)\n",
        "\n",
        "# Misalkan kolom terakhir adalah kolom target (y) dan kolom lainnya adalah fitur (X)\n",
        "X = data.iloc[:, :-1]  # Ambil semua kolom kecuali kolom terakhir\n",
        "y = data.iloc[:, -1]   # Ambil kolom terakhir sebagai target\n",
        "\n",
        "model = SVC(kernel='linear')\n",
        "\n",
        "k_fold = KFold(n_splits=10, shuffle=True, random_state=42)\n",
        "\n",
        "scores = cross_val_score(model, X, y, cv=k_fold)\n",
        "\n",
        "print(\"Accuracy of each fold:\", scores)\n",
        "print(\"Average accuracy:\", np.mean(scores))"
      ],
      "metadata": {
        "colab": {
          "base_uri": "https://localhost:8080/"
        },
        "id": "YU80Z1xobYlx",
        "outputId": "37bcc136-0db1-4c9c-890a-78beffd87fb8"
      },
      "execution_count": null,
      "outputs": [
        {
          "output_type": "stream",
          "name": "stdout",
          "text": [
            "Accuracy of each fold: [0.2        0.2        0.16666667 0.3        0.16666667 0.26666667\n",
            " 0.23333333 0.2        0.3        0.26666667]\n",
            "Average accuracy: 0.22999999999999998\n"
          ]
        }
      ]
    },
    {
      "cell_type": "markdown",
      "source": [
        "**Skenario 10-Fold Cross Validation dengan Classifier SVM**"
      ],
      "metadata": {
        "id": "4FzOo18QI5OJ"
      }
    },
    {
      "cell_type": "code",
      "source": [
        "from sklearn.model_selection import cross_val_predict, KFold\n",
        "from sklearn.metrics import confusion_matrix, classification_report\n",
        "from sklearn.svm import SVC\n",
        "import numpy as np\n",
        "import pandas as pd\n",
        "\n",
        "nama_file = 'CPC2.xlsx'\n",
        "data = pd.read_excel(nama_file)\n",
        "\n",
        "X = data.iloc[:, :-1]\n",
        "y = data.iloc[:, -1]\n",
        "\n",
        "model = SVC(kernel='linear')\n",
        "\n",
        "k_fold = KFold(n_splits=10, shuffle=True, random_state=42)\n",
        "\n",
        "# Prediksi dengan cross-validation\n",
        "y_pred = cross_val_predict(model, X, y, cv=k_fold)\n",
        "\n",
        "# Confusion matrix\n",
        "conf_matrix = confusion_matrix(y, y_pred)\n",
        "\n",
        "# Menghitung parameter performansi\n",
        "TP = conf_matrix[1, 1]  # True Positives\n",
        "TN = conf_matrix[0, 0]  # True Negatives\n",
        "FP = conf_matrix[0, 1]  # False Positives\n",
        "FN = conf_matrix[1, 0]  # False Negatives\n",
        "\n",
        "# Handle division by zero\n",
        "precision = TP / (TP + FP) if (TP + FP) != 0 else 0\n",
        "recall = TP / (TP + FN) if (TP + FN) != 0 else 0\n",
        "\n",
        "# Handle division by zero for F1-Score\n",
        "if precision + recall == 0:\n",
        "    f1_score = 0\n",
        "else:\n",
        "    f1_score = 2 * (precision * recall) / (precision + recall)\n",
        "\n",
        "accuracy = (TP + TN) / (TP + TN + FP + FN)\n",
        "\n",
        "print(\"------ 10-Fold CV using SVM Classifier ------\")\n",
        "print(\"Sensitivity:\", recall)\n",
        "print(\"Specificity:\", TN / (TN + FP))\n",
        "print(\"Accuracy:\", accuracy)\n",
        "print(\"F1-Score:\", f1_score)"
      ],
      "metadata": {
        "colab": {
          "base_uri": "https://localhost:8080/"
        },
        "id": "q870BallbcEL",
        "outputId": "dd8fee0a-3b40-4f08-902d-b155371a9376"
      },
      "execution_count": null,
      "outputs": [
        {
          "output_type": "stream",
          "name": "stdout",
          "text": [
            "------ 10-Fold CV using SVM Classifier ------\n",
            "Sensitivity: 0.631578947368421\n",
            "Specificity: 0.20833333333333334\n",
            "Accuracy: 0.3953488372093023\n",
            "F1-Score: 0.48000000000000004\n"
          ]
        }
      ]
    },
    {
      "cell_type": "markdown",
      "source": [
        "**Skenario 10-Fold Cross Validation dengan Classifier K-NN**"
      ],
      "metadata": {
        "id": "XZ59QW_iJANn"
      }
    },
    {
      "cell_type": "code",
      "source": [
        "from sklearn.model_selection import cross_val_predict, KFold\n",
        "from sklearn.metrics import confusion_matrix, classification_report\n",
        "from sklearn.neighbors import KNeighborsClassifier\n",
        "import numpy as np\n",
        "import pandas as pd\n",
        "\n",
        "nama_file = 'CPC2.xlsx'\n",
        "data = pd.read_excel(nama_file)\n",
        "\n",
        "X = data.iloc[:, :-1]\n",
        "y = data.iloc[:, -1]\n",
        "\n",
        "model = KNeighborsClassifier(n_neighbors=5)\n",
        "\n",
        "k_fold = KFold(n_splits=10, shuffle=True, random_state=42)\n",
        "\n",
        "# Prediksi dengan cross-validation\n",
        "y_pred = cross_val_predict(model, X, y, cv=k_fold)\n",
        "\n",
        "# Confusion matrix\n",
        "conf_matrix = confusion_matrix(y, y_pred)\n",
        "\n",
        "# Menghitung parameter performansi\n",
        "TP = conf_matrix[1, 1]  # True Positives\n",
        "TN = conf_matrix[0, 0]  # True Negatives\n",
        "FP = conf_matrix[0, 1]  # False Positives\n",
        "FN = conf_matrix[1, 0]  # False Negatives\n",
        "\n",
        "sensitivity = TP / (TP + FN)\n",
        "specificity = TN / (TN + FP)\n",
        "accuracy = (TP + TN) / (TP + TN + FP + FN)\n",
        "precision = TP / (TP + FP)\n",
        "recall = sensitivity\n",
        "f1_score = 2 * (precision * recall) / (precision + recall)\n",
        "\n",
        "print(\"------ 10-Fold CV using K-NN Classifier ------\")\n",
        "print(\"Sensitivity:\", sensitivity)\n",
        "print(\"Specificity:\", specificity)\n",
        "print(\"Accuracy:\", accuracy)\n",
        "print(\"F1-Score:\", f1_score)"
      ],
      "metadata": {
        "colab": {
          "base_uri": "https://localhost:8080/"
        },
        "id": "hIYiHJiVbgJy",
        "outputId": "7016bc97-8dc2-46be-9415-56398a991e65"
      },
      "execution_count": null,
      "outputs": [
        {
          "output_type": "stream",
          "name": "stdout",
          "text": [
            "------ 10-Fold CV using K-NN Classifier ------\n",
            "Sensitivity: 0.9042553191489362\n",
            "Specificity: 0.8333333333333334\n",
            "Accuracy: 0.8707865168539326\n",
            "F1-Score: 0.8808290155440415\n"
          ]
        }
      ]
    },
    {
      "cell_type": "markdown",
      "source": [
        "**Skenario 75% Training dan 25% Testing dengan Classifier SVM**"
      ],
      "metadata": {
        "id": "vt5pAAk7JGl0"
      }
    },
    {
      "cell_type": "code",
      "source": [
        "from sklearn.model_selection import train_test_split\n",
        "from sklearn.svm import SVC\n",
        "from sklearn.metrics import precision_recall_fscore_support, accuracy_score\n",
        "from sklearn.preprocessing import LabelEncoder\n",
        "import pandas as pd\n",
        "\n",
        "nama_file = 'CPC2.xlsx'\n",
        "data = pd.read_excel(nama_file)\n",
        "\n",
        "X = data.iloc[:, :-1]\n",
        "y = data.iloc[:, -1]\n",
        "\n",
        "label_encoder = LabelEncoder()\n",
        "y = label_encoder.fit_transform(y)\n",
        "\n",
        "# Bagi data menjadi 75% Training Data dan 25% Testing Data\n",
        "X_train, X_test, y_train, y_test = train_test_split(X, y, test_size=0.25, random_state=42)\n",
        "\n",
        "# Inisialisasi model SVM\n",
        "svm_model = SVC(kernel='linear')\n",
        "\n",
        "# Latih model dengan training data\n",
        "svm_model.fit(X_train, y_train)\n",
        "\n",
        "# Prediksi menggunakan data uji\n",
        "y_pred_train = svm_model.predict(X_train)\n",
        "y_pred_test = svm_model.predict(X_test)\n",
        "\n",
        "# Evaluasi metrik untuk SVM pada data pelatihan dan data pengujian\n",
        "precision_train, recall_train, f1_score_train, _ = precision_recall_fscore_support(y_train, y_pred_train, average='weighted', zero_division=1)\n",
        "precision_test, recall_test, f1_score_test, _ = precision_recall_fscore_support(y_test, y_pred_test, average='weighted', zero_division=1)\n",
        "\n",
        "accuracy_train = accuracy_score(y_train, y_pred_train)\n",
        "accuracy_test = accuracy_score(y_test, y_pred_test)\n",
        "\n",
        "print(\"------ 75% Training & 25% Testing using SVM Classifier ------\")\n",
        "print(\"[Training Set]\")\n",
        "print(\"Sensitivity:\", recall_train)\n",
        "print(\"Specificity:\", 1)\n",
        "print(\"Accuracy:\", accuracy_train)\n",
        "print(\"F1-Score:\", f1_score_train)\n",
        "\n",
        "print(\"\\n[Testing Set]\")\n",
        "print(\"Sensitivity:\", recall_test)\n",
        "print(\"Specificity:\", 1)\n",
        "print(\"Accuracy:\", accuracy_test)\n",
        "print(\"F1-Score:\", f1_score_test)"
      ],
      "metadata": {
        "colab": {
          "base_uri": "https://localhost:8080/"
        },
        "id": "xNw0sb1rbjlp",
        "outputId": "a446c574-8907-4287-b1cd-4204bdaa521e"
      },
      "execution_count": null,
      "outputs": [
        {
          "output_type": "stream",
          "name": "stdout",
          "text": [
            "------ 75% Training & 25% Testing using SVM Classifier ------\n",
            "[Training Set]\n",
            "Sensitivity: 0.3422222222222222\n",
            "Specificity: 1\n",
            "Accuracy: 0.3422222222222222\n",
            "F1-Score: 0.17451066961000733\n",
            "\n",
            "[Testing Set]\n",
            "Sensitivity: 0.30666666666666664\n",
            "Specificity: 1\n",
            "Accuracy: 0.30666666666666664\n",
            "F1-Score: 0.1439455782312925\n"
          ]
        }
      ]
    },
    {
      "cell_type": "markdown",
      "source": [
        "**Skenario 75% Training dan 25% Testing dengan Classifier K-NN**"
      ],
      "metadata": {
        "id": "00iHsEhgJLhL"
      }
    },
    {
      "cell_type": "code",
      "source": [
        "from sklearn.model_selection import train_test_split\n",
        "from sklearn.neighbors import KNeighborsClassifier\n",
        "from sklearn.metrics import precision_recall_fscore_support, accuracy_score\n",
        "import pandas as pd\n",
        "\n",
        "nama_file = 'CPC2.xlsx'\n",
        "data = pd.read_excel(nama_file)\n",
        "\n",
        "X = data.iloc[:, :-1]\n",
        "y = data.iloc[:, -1]\n",
        "\n",
        "X_train, X_test, y_train, y_test = train_test_split(X, y, test_size=0.25, random_state=42)\n",
        "\n",
        "# Inisialisasi model K-NN dengan jumlah tetangga (n_neighbors) yang diinginkan\n",
        "knn_model = KNeighborsClassifier(n_neighbors=5)\n",
        "\n",
        "# Latih model dengan training data\n",
        "knn_model.fit(X_train, y_train)\n",
        "\n",
        "# Prediksi menggunakan data uji\n",
        "y_pred_train = knn_model.predict(X_train)\n",
        "y_pred_test = knn_model.predict(X_test)\n",
        "\n",
        "# Evaluasi metrik untuk K-NN pada data pelatihan\n",
        "precision_train, recall_train, f1_score_train, _ = precision_recall_fscore_support(y_train, y_pred_train, average='weighted')\n",
        "\n",
        "# Evaluasi metrik untuk K-NN pada data pengujian\n",
        "precision_test, recall_test, f1_score_test, _ = precision_recall_fscore_support(y_test, y_pred_test, average='weighted')\n",
        "\n",
        "accuracy_train = accuracy_score(y_train, y_pred_train)\n",
        "accuracy_test = accuracy_score(y_test, y_pred_test)\n",
        "\n",
        "print(\"------ 75% Training & 25% Testing using K-NN Classifier ------\")\n",
        "print(\"[Training Set]\")\n",
        "print(\"Sensitivity:\", recall_train)\n",
        "print(\"Specificity:\", 1)\n",
        "print(\"Accuracy:\", accuracy_train)\n",
        "print(\"F1-Score:\", f1_score_train)\n",
        "\n",
        "print(\"\\n[Testing Set]\")\n",
        "print(\"Sensitivity:\", recall_test)\n",
        "print(\"Specificity:\", 1)\n",
        "print(\"Accuracy:\", accuracy_test)\n",
        "print(\"F1-Score:\", f1_score_test)"
      ],
      "metadata": {
        "colab": {
          "base_uri": "https://localhost:8080/"
        },
        "id": "xDOdOCkebmou",
        "outputId": "515c07cd-4d07-4663-ec1f-f66b6ed26e8f"
      },
      "execution_count": null,
      "outputs": [
        {
          "output_type": "stream",
          "name": "stdout",
          "text": [
            "------ 75% Training & 25% Testing using K-NN Classifier ------\n",
            "[Training Set]\n",
            "Sensitivity: 0.7733333333333333\n",
            "Specificity: 1\n",
            "Accuracy: 0.7733333333333333\n",
            "F1-Score: 0.7705557058200111\n",
            "\n",
            "[Testing Set]\n",
            "Sensitivity: 0.7333333333333333\n",
            "Specificity: 1\n",
            "Accuracy: 0.7333333333333333\n",
            "F1-Score: 0.7249486924859319\n"
          ]
        }
      ]
    },
    {
      "cell_type": "markdown",
      "source": [
        "**Skenario 50% Training, 25% Validation, dan 25% Testing dengan Classifier SVM**"
      ],
      "metadata": {
        "id": "AGi_3otpJUf-"
      }
    },
    {
      "cell_type": "code",
      "source": [
        "from sklearn.model_selection import train_test_split\n",
        "from sklearn.svm import SVC\n",
        "from sklearn.metrics import precision_recall_fscore_support, confusion_matrix\n",
        "import pandas as pd\n",
        "\n",
        "nama_file = 'CPC2.xlsx'\n",
        "data = pd.read_excel(nama_file)\n",
        "\n",
        "X = data.iloc[:, :-1]\n",
        "y = data.iloc[:, -1]\n",
        "\n",
        "# Memisahkan data menjadi data pelatihan (50%) dan sisa data (50%)\n",
        "X_train, X_remaining, y_train, y_remaining = train_test_split(X, y, test_size=0.5, random_state=42)\n",
        "\n",
        "# Memisahkan sisa data menjadi data validasi (25%) dan data pengujian (25%)\n",
        "X_validation, X_test, y_validation, y_test = train_test_split(X_remaining, y_remaining, test_size=0.5, random_state=42)\n",
        "\n",
        "# Inisialisasi model SVM\n",
        "model = SVC(kernel='linear')\n",
        "\n",
        "model.fit(X_train, y_train)\n",
        "\n",
        "#Prediksi data\n",
        "y_pred_train = model.predict(X_train)\n",
        "y_pred_validation = model.predict(X_validation)\n",
        "y_pred_test = model.predict(X_test)\n",
        "\n",
        "# Evaluasi metrik untuk data pelatihan\n",
        "precision_train, recall_train, f1_score_train, _ = precision_recall_fscore_support(y_train, y_pred_train, average='weighted', zero_division=1)\n",
        "conf_matrix_train = confusion_matrix(y_train, y_pred_train)\n",
        "TN_train, FP_train = conf_matrix_train[0, 0], conf_matrix_train[0, 1]\n",
        "FN_train, TP_train = conf_matrix_train[1, 0], conf_matrix_train[1, 1]\n",
        "specificity_train = TN_train / (TN_train + FP_train) if (TN_train + FP_train) != 0 else 0\n",
        "\n",
        "# Evaluasi metrik untuk data validasi\n",
        "precision_validation, recall_validation, f1_score_validation, _ = precision_recall_fscore_support(y_validation, y_pred_validation, average='weighted', zero_division=1)\n",
        "conf_matrix_validation = confusion_matrix(y_validation, y_pred_validation)\n",
        "TN_validation, FP_validation = conf_matrix_validation[0, 0], conf_matrix_validation[0, 1]\n",
        "FN_validation, TP_validation = conf_matrix_validation[1, 0], conf_matrix_validation[1, 1]\n",
        "specificity_validation = TN_validation / (TN_validation + FP_validation) if (TN_validation + FP_validation) != 0 else 0\n",
        "\n",
        "# Evaluasi metrik untuk data pengujian\n",
        "precision_test, recall_test, f1_score_test, _ = precision_recall_fscore_support(y_test, y_pred_test, average='weighted', zero_division=1)\n",
        "conf_matrix_test = confusion_matrix(y_test, y_pred_test)\n",
        "TN_test, FP_test = conf_matrix_test[0, 0], conf_matrix_test[0, 1]\n",
        "FN_test, TP_test = conf_matrix_test[1, 0], conf_matrix_test[1, 1]\n",
        "specificity_test = TN_test / (TN_test + FP_test) if (TN_test + FP_test) != 0 else 0\n",
        "\n",
        "print(\"------ 50% Training, 25% Validation, & 25% Testing using SVM Classifier ------\")\n",
        "print(\"[Training Set]\")\n",
        "print(\"Sensitivity:\", recall_train)\n",
        "print(\"Specificity:\", specificity_train)\n",
        "print(\"Accuracy:\", model.score(X_train, y_train))\n",
        "print(\"F1-Score:\", f1_score_train)\n",
        "\n",
        "print(\"\\n[Validation Set]\")\n",
        "print(\"Sensitivity:\", recall_validation)\n",
        "print(\"Specificity:\", specificity_validation)\n",
        "print(\"Accuracy:\", model.score(X_validation, y_validation))\n",
        "print(\"F1-Score:\", f1_score_validation)\n",
        "\n",
        "print(\"\\n[Testing Set]\")\n",
        "print(\"Sensitivity:\", recall_test)\n",
        "print(\"Specificity:\", specificity_test)\n",
        "print(\"Accuracy:\", model.score(X_test, y_test))\n",
        "print(\"F1-Score:\", f1_score_test)"
      ],
      "metadata": {
        "id": "ZQhPR9rLbrPU",
        "colab": {
          "base_uri": "https://localhost:8080/"
        },
        "outputId": "c7cd4b77-d6f3-442a-a141-536ca05f632a"
      },
      "execution_count": null,
      "outputs": [
        {
          "output_type": "stream",
          "name": "stdout",
          "text": [
            "------ 50% Training, 25% Validation, & 25% Testing using SVM Classifier ------\n",
            "[Training Set]\n",
            "Sensitivity: 0.38\n",
            "Specificity: 0\n",
            "Accuracy: 0.38\n",
            "F1-Score: 0.20927536231884059\n",
            "\n",
            "[Validation Set]\n",
            "Sensitivity: 0.28\n",
            "Specificity: 0\n",
            "Accuracy: 0.28\n",
            "F1-Score: 0.12250000000000003\n",
            "\n",
            "[Testing Set]\n",
            "Sensitivity: 0.29333333333333333\n",
            "Specificity: 0\n",
            "Accuracy: 0.29333333333333333\n",
            "F1-Score: 0.13305841924398623\n"
          ]
        }
      ]
    },
    {
      "cell_type": "markdown",
      "source": [
        "**Skenario 50% Training, 25% Validation, dan 25% Testing dengan Classifier K-NN**"
      ],
      "metadata": {
        "id": "09w3HHllJbEW"
      }
    },
    {
      "cell_type": "code",
      "source": [
        "from sklearn.model_selection import train_test_split\n",
        "from sklearn.neighbors import KNeighborsClassifier\n",
        "from sklearn.metrics import confusion_matrix, classification_report\n",
        "import pandas as pd\n",
        "\n",
        "nama_file = 'CPC2.xlsx'\n",
        "data = pd.read_excel(nama_file)\n",
        "\n",
        "X = data.iloc[:, :-1]\n",
        "y = data.iloc[:, -1]\n",
        "\n",
        "X_train, X_remaining, y_train, y_remaining = train_test_split(X, y, test_size=0.5, random_state=42)\n",
        "X_validation, X_test, y_validation, y_test = train_test_split(X_remaining, y_remaining, test_size=0.5, random_state=42)\n",
        "\n",
        "# Inisialisasi model K-NN dengan jumlah tetangga 5\n",
        "model = KNeighborsClassifier(n_neighbors=5)\n",
        "\n",
        "# Melatih model dengan data pelatihan\n",
        "model.fit(X_train, y_train)\n",
        "\n",
        "# Prediksi pada data pelatihan, validasi, dan pengujian\n",
        "y_pred_train = model.predict(X_train)\n",
        "y_pred_validation = model.predict(X_validation)\n",
        "y_pred_test = model.predict(X_test)\n",
        "\n",
        "# Evaluasi pada data pelatihan\n",
        "conf_matrix_train = confusion_matrix(y_train, y_pred_train)\n",
        "TP_train = conf_matrix_train[1, 1]\n",
        "TN_train = conf_matrix_train[0, 0]\n",
        "FP_train = conf_matrix_train[0, 1]\n",
        "FN_train = conf_matrix_train[1, 0]\n",
        "\n",
        "sensitivity_train = TP_train / (TP_train + FN_train)\n",
        "specificity_train = TN_train / (TN_train + FP_train)\n",
        "accuracy_train = (TP_train + TN_train) / (TP_train + TN_train + FP_train + FN_train)\n",
        "precision_train = TP_train / (TP_train + FP_train)\n",
        "recall_train = sensitivity_train\n",
        "f1_score_train = 2 * (precision_train * recall_train) / (precision_train + recall_train)\n",
        "\n",
        "# Evaluasi pada data validasi\n",
        "conf_matrix_validation = confusion_matrix(y_validation, y_pred_validation)\n",
        "TP_validation = conf_matrix_validation[1, 1]\n",
        "TN_validation = conf_matrix_validation[0, 0]\n",
        "FP_validation = conf_matrix_validation[0, 1]\n",
        "FN_validation = conf_matrix_validation[1, 0]\n",
        "\n",
        "sensitivity_validation = TP_validation / (TP_validation + FN_validation)\n",
        "specificity_validation = TN_validation / (TN_validation + FP_validation)\n",
        "accuracy_validation = (TP_validation + TN_validation) / (TP_validation + TN_validation + FP_validation + FN_validation)\n",
        "precision_validation = TP_validation / (TP_validation + FP_validation)\n",
        "recall_validation = sensitivity_validation\n",
        "f1_score_validation = 2 * (precision_validation * recall_validation) / (precision_validation + recall_validation)\n",
        "\n",
        "# Evaluasi pada data pengujian\n",
        "conf_matrix_test = confusion_matrix(y_test, y_pred_test)\n",
        "TP_test = conf_matrix_test[1, 1]\n",
        "TN_test = conf_matrix_test[0, 0]\n",
        "FP_test = conf_matrix_test[0, 1]\n",
        "FN_test = conf_matrix_test[1, 0]\n",
        "\n",
        "sensitivity_test = TP_test / (TP_test + FN_test)\n",
        "specificity_test = TN_test / (TN_test + FP_test)\n",
        "accuracy_test = (TP_test + TN_test) / (TP_test + TN_test + FP_test + FN_test)\n",
        "precision_test = TP_test / (TP_test + FP_test)\n",
        "recall_test = sensitivity_test\n",
        "f1_score_test = 2 * (precision_test * recall_test) / (precision_test + recall_test)\n",
        "\n",
        "print(\"------ 50% Training, 25% Validation, & 25% Testing using K-NN Classifier ------\")\n",
        "print(\"[Training Set]\")\n",
        "print(\"Sensitivity:\", sensitivity_train)\n",
        "print(\"Specificity:\", specificity_train)\n",
        "print(\"Accuracy:\", accuracy_train)\n",
        "print(\"F1-Score:\", f1_score_train)\n",
        "\n",
        "print(\"\\n[Validation Set]\")\n",
        "print(\"Sensitivity:\", sensitivity_validation)\n",
        "print(\"Specificity:\", specificity_validation)\n",
        "print(\"Accuracy:\", accuracy_validation)\n",
        "print(\"F1-Score:\", f1_score_validation)\n",
        "\n",
        "print(\"\\n[Testing Set]\")\n",
        "print(\"Sensitivity:\", sensitivity_test)\n",
        "print(\"Specificity:\", specificity_test)\n",
        "print(\"Accuracy:\", accuracy_test)\n",
        "print(\"F1-Score:\", f1_score_test)"
      ],
      "metadata": {
        "colab": {
          "base_uri": "https://localhost:8080/"
        },
        "id": "Wao8lqoTJdZ5",
        "outputId": "91cc9bd7-5851-47de-aef6-76f7b55554ed"
      },
      "execution_count": null,
      "outputs": [
        {
          "output_type": "stream",
          "name": "stdout",
          "text": [
            "------ 50% Training, 25% Validation, & 25% Testing using K-NN Classifier ------\n",
            "[Training Set]\n",
            "Sensitivity: 0.972972972972973\n",
            "Specificity: 0.8043478260869565\n",
            "Accuracy: 0.8795180722891566\n",
            "F1-Score: 0.8780487804878049\n",
            "\n",
            "[Validation Set]\n",
            "Sensitivity: 0.96\n",
            "Specificity: 0.68\n",
            "Accuracy: 0.82\n",
            "F1-Score: 0.8421052631578947\n",
            "\n",
            "[Testing Set]\n",
            "Sensitivity: 0.875\n",
            "Specificity: 0.8421052631578947\n",
            "Accuracy: 0.8604651162790697\n",
            "F1-Score: 0.875\n"
          ]
        }
      ]
    }
  ]
}